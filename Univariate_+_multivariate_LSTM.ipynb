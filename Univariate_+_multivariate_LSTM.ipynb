{
  "nbformat": 4,
  "nbformat_minor": 0,
  "metadata": {
    "colab": {
      "name": "Univariate + multivariate LSTM.ipynb",
      "provenance": [],
      "collapsed_sections": [],
      "include_colab_link": true
    },
    "kernelspec": {
      "name": "python3",
      "display_name": "Python 3"
    }
  },
  "cells": [
    {
      "cell_type": "markdown",
      "metadata": {
        "id": "view-in-github",
        "colab_type": "text"
      },
      "source": [
        "<a href=\"https://colab.research.google.com/github/luoChengwen/Tensorflow_test/blob/master/Univariate_%2B_multivariate_LSTM.ipynb\" target=\"_parent\"><img src=\"https://colab.research.google.com/assets/colab-badge.svg\" alt=\"Open In Colab\"/></a>"
      ]
    },
    {
      "cell_type": "code",
      "metadata": {
        "id": "IoiXHNyX5Bw-",
        "colab_type": "code",
        "colab": {
          "base_uri": "https://localhost:8080/",
          "height": 377
        },
        "outputId": "49f2c6e1-4aa4-4912-bff1-e98c5c6f68ff"
      },
      "source": [
        "# ! pip install tensorflow==2.0.0-beta"
      ],
      "execution_count": 6,
      "outputs": [
        {
          "output_type": "stream",
          "text": [
            "Requirement already satisfied: tensorflow==2.0.0-beta in /usr/local/lib/python3.6/dist-packages (2.0.0b0)\n",
            "Requirement already satisfied: wrapt>=1.11.1 in /usr/local/lib/python3.6/dist-packages (from tensorflow==2.0.0-beta) (1.11.2)\n",
            "Requirement already satisfied: tf-estimator-nightly<1.14.0.dev2019060502,>=1.14.0.dev2019060501 in /usr/local/lib/python3.6/dist-packages (from tensorflow==2.0.0-beta) (1.14.0.dev2019060501)\n",
            "Requirement already satisfied: termcolor>=1.1.0 in /usr/local/lib/python3.6/dist-packages (from tensorflow==2.0.0-beta) (1.1.0)\n",
            "Requirement already satisfied: six>=1.10.0 in /usr/local/lib/python3.6/dist-packages (from tensorflow==2.0.0-beta) (1.12.0)\n",
            "Requirement already satisfied: astor>=0.6.0 in /usr/local/lib/python3.6/dist-packages (from tensorflow==2.0.0-beta) (0.8.0)\n",
            "Requirement already satisfied: gast>=0.2.0 in /usr/local/lib/python3.6/dist-packages (from tensorflow==2.0.0-beta) (0.2.2)\n",
            "Requirement already satisfied: numpy<2.0,>=1.14.5 in /usr/local/lib/python3.6/dist-packages (from tensorflow==2.0.0-beta) (1.17.3)\n",
            "Requirement already satisfied: protobuf>=3.6.1 in /usr/local/lib/python3.6/dist-packages (from tensorflow==2.0.0-beta) (3.10.0)\n",
            "Requirement already satisfied: keras-preprocessing>=1.0.5 in /usr/local/lib/python3.6/dist-packages (from tensorflow==2.0.0-beta) (1.1.0)\n",
            "Requirement already satisfied: grpcio>=1.8.6 in /usr/local/lib/python3.6/dist-packages (from tensorflow==2.0.0-beta) (1.15.0)\n",
            "Requirement already satisfied: wheel>=0.26 in /usr/local/lib/python3.6/dist-packages (from tensorflow==2.0.0-beta) (0.33.6)\n",
            "Requirement already satisfied: tb-nightly<1.14.0a20190604,>=1.14.0a20190603 in /usr/local/lib/python3.6/dist-packages (from tensorflow==2.0.0-beta) (1.14.0a20190603)\n",
            "Requirement already satisfied: absl-py>=0.7.0 in /usr/local/lib/python3.6/dist-packages (from tensorflow==2.0.0-beta) (0.8.1)\n",
            "Requirement already satisfied: google-pasta>=0.1.6 in /usr/local/lib/python3.6/dist-packages (from tensorflow==2.0.0-beta) (0.1.7)\n",
            "Requirement already satisfied: keras-applications>=1.0.6 in /usr/local/lib/python3.6/dist-packages (from tensorflow==2.0.0-beta) (1.0.8)\n",
            "Requirement already satisfied: setuptools in /usr/local/lib/python3.6/dist-packages (from protobuf>=3.6.1->tensorflow==2.0.0-beta) (41.4.0)\n",
            "Requirement already satisfied: markdown>=2.6.8 in /usr/local/lib/python3.6/dist-packages (from tb-nightly<1.14.0a20190604,>=1.14.0a20190603->tensorflow==2.0.0-beta) (3.1.1)\n",
            "Requirement already satisfied: werkzeug>=0.11.15 in /usr/local/lib/python3.6/dist-packages (from tb-nightly<1.14.0a20190604,>=1.14.0a20190603->tensorflow==2.0.0-beta) (0.16.0)\n",
            "Requirement already satisfied: h5py in /usr/local/lib/python3.6/dist-packages (from keras-applications>=1.0.6->tensorflow==2.0.0-beta) (2.8.0)\n"
          ],
          "name": "stdout"
        }
      ]
    },
    {
      "cell_type": "code",
      "metadata": {
        "id": "EbTO42-t42Is",
        "colab_type": "code",
        "colab": {}
      },
      "source": [
        "# univariate lstm example\n",
        "from numpy import array\n",
        "import tensorflow as tf\n",
        "from tensorflow.keras.models import Sequential\n",
        "from tensorflow.keras.layers import LSTM\n",
        "from tensorflow.keras.layers import Dense\n",
        " \n"
      ],
      "execution_count": 0,
      "outputs": []
    },
    {
      "cell_type": "markdown",
      "metadata": {
        "id": "5GJydUWhVMcS",
        "colab_type": "text"
      },
      "source": [
        "## Univariate LSTM"
      ]
    },
    {
      "cell_type": "code",
      "metadata": {
        "id": "DXnTL5lx48HB",
        "colab_type": "code",
        "colab": {}
      },
      "source": [
        "# split a univariate sequence into samples\n",
        "def split_sequence(sequence, n_steps):\n",
        "\tX, y = list(), list()\n",
        "\tfor i in range(len(sequence)):\n",
        "\t\t# find the end of this pattern\n",
        "\t\tend_ix = i + n_steps\n",
        "\t\t# check if we are beyond the sequence\n",
        "\t\tif end_ix > len(sequence)-1:\n",
        "\t\t\tbreak\n",
        "\t\t# gather input and output parts of the pattern\n",
        "\t\tseq_x, seq_y = sequence[i:end_ix], sequence[end_ix]\n",
        "\t\tX.append(seq_x)\n",
        "\t\ty.append(seq_y)\n",
        "\treturn array(X), array(y)\n",
        " \n"
      ],
      "execution_count": 0,
      "outputs": []
    },
    {
      "cell_type": "code",
      "metadata": {
        "id": "e8wiJo5E5BFd",
        "colab_type": "code",
        "colab": {}
      },
      "source": [
        "# define input sequence\n",
        "raw_seq = [10, 20, 30, 40, 50, 60, 70, 80, 90]\n",
        "# choose a number of time steps\n",
        "n_steps = 3\n",
        "# split into samples\n",
        "X, y = split_sequence(raw_seq, n_steps)\n"
      ],
      "execution_count": 0,
      "outputs": []
    },
    {
      "cell_type": "code",
      "metadata": {
        "id": "wPPMZ77NRVLd",
        "colab_type": "code",
        "colab": {
          "base_uri": "https://localhost:8080/",
          "height": 119
        },
        "outputId": "b611bb1f-365e-4756-caa9-f032b807f040"
      },
      "source": [
        "X, y"
      ],
      "execution_count": 11,
      "outputs": [
        {
          "output_type": "execute_result",
          "data": {
            "text/plain": [
              "(array([[10, 20, 30],\n",
              "        [20, 30, 40],\n",
              "        [30, 40, 50],\n",
              "        [40, 50, 60],\n",
              "        [50, 60, 70],\n",
              "        [60, 70, 80]]), array([40, 50, 60, 70, 80, 90]))"
            ]
          },
          "metadata": {
            "tags": []
          },
          "execution_count": 11
        }
      ]
    },
    {
      "cell_type": "code",
      "metadata": {
        "id": "xaYahyS_RcQ4",
        "colab_type": "code",
        "colab": {
          "base_uri": "https://localhost:8080/",
          "height": 34
        },
        "outputId": "754e06e2-e1f0-4631-c47b-2b61d9121916"
      },
      "source": [
        "(X.shape[0], X.shape[1], 1)"
      ],
      "execution_count": 12,
      "outputs": [
        {
          "output_type": "execute_result",
          "data": {
            "text/plain": [
              "(6, 3, 1)"
            ]
          },
          "metadata": {
            "tags": []
          },
          "execution_count": 12
        }
      ]
    },
    {
      "cell_type": "code",
      "metadata": {
        "id": "Tkig80l-RVmQ",
        "colab_type": "code",
        "colab": {
          "base_uri": "https://localhost:8080/",
          "height": 34
        },
        "outputId": "f5227050-3b20-48ee-ed4e-3c75ee5d4571"
      },
      "source": [
        "# reshape from [samples, timesteps] into [samples, timesteps, features]\n",
        "n_features = 1\n",
        "X = X.reshape((X.shape[0], X.shape[1], n_features))\n",
        "# define model\n",
        "model = Sequential()\n",
        "model.add(LSTM(50, activation='relu', input_shape=(n_steps, n_features)))\n",
        "model.add(Dense(1))\n",
        "model.compile(optimizer='adam', loss='mse')\n",
        "# fit model\n",
        "model.fit(X, y, epochs=200, verbose=0)\n",
        "# demonstrate prediction\n",
        "x_input = array([70, 80, 90])\n",
        "x_input = x_input.reshape((1, n_steps, n_features))\n",
        "yhat = model.predict(x_input, verbose=0)\n",
        "print(yhat)"
      ],
      "execution_count": 22,
      "outputs": [
        {
          "output_type": "stream",
          "text": [
            "[[102.46112]]\n"
          ],
          "name": "stdout"
        }
      ]
    },
    {
      "cell_type": "code",
      "metadata": {
        "id": "LgecdERNVFm5",
        "colab_type": "code",
        "colab": {
          "base_uri": "https://localhost:8080/",
          "height": 34
        },
        "outputId": "4714ece4-90d4-4eca-8bc7-d6401c15ca2c"
      },
      "source": [
        "n_steps, n_features"
      ],
      "execution_count": 14,
      "outputs": [
        {
          "output_type": "execute_result",
          "data": {
            "text/plain": [
              "(3, 1)"
            ]
          },
          "metadata": {
            "tags": []
          },
          "execution_count": 14
        }
      ]
    },
    {
      "cell_type": "code",
      "metadata": {
        "id": "1EtMic6QW9xJ",
        "colab_type": "code",
        "colab": {
          "base_uri": "https://localhost:8080/",
          "height": 34
        },
        "outputId": "de1d6de2-2c53-443c-b047-ccb8afc43e35"
      },
      "source": [
        "model2 = Sequential([\n",
        "                     LSTM(50,activation ='relu', return_sequences= True, input_shape = (X.shape[1],n_features)),\n",
        "                     LSTM(50,activation ='relu', return_sequences= True),\n",
        "                     LSTM(30,activation ='relu'),\n",
        "                     Dense(1)\n",
        "])\n",
        "model2.compile(optimizer='adam', loss='mse')\n",
        "model2.fit(X,y, epochs=200, verbose =0)"
      ],
      "execution_count": 23,
      "outputs": [
        {
          "output_type": "execute_result",
          "data": {
            "text/plain": [
              "<tensorflow.python.keras.callbacks.History at 0x7faae6ce1128>"
            ]
          },
          "metadata": {
            "tags": []
          },
          "execution_count": 23
        }
      ]
    },
    {
      "cell_type": "code",
      "metadata": {
        "id": "oBAIRXRjVIUj",
        "colab_type": "code",
        "colab": {
          "base_uri": "https://localhost:8080/",
          "height": 34
        },
        "outputId": "c1e9c38b-71ec-4bd6-9ab0-cc8baf6c98b7"
      },
      "source": [
        "x_input = array([70, 80, 90])\n",
        "x_input = x_input.reshape((1, n_steps, n_features))\n",
        "model2.predict(x_input, verbose=0)"
      ],
      "execution_count": 21,
      "outputs": [
        {
          "output_type": "execute_result",
          "data": {
            "text/plain": [
              "array([[101.84693]], dtype=float32)"
            ]
          },
          "metadata": {
            "tags": []
          },
          "execution_count": 21
        }
      ]
    },
    {
      "cell_type": "code",
      "metadata": {
        "id": "FS40H-gQXyd_",
        "colab_type": "code",
        "colab": {
          "base_uri": "https://localhost:8080/",
          "height": 34
        },
        "outputId": "b242278c-1649-4934-c126-aef0a280b2a8"
      },
      "source": [
        "from tensorflow.keras.layers import Bidirectional\n",
        "model3 = Sequential([\n",
        "                     Bidirectional(LSTM(32,activation ='relu', return_sequences=True), input_shape = (X.shape[1],n_features)),\n",
        "                     LSTM(16, activation='relu'),\n",
        "                     Dense(1)\n",
        "])\n",
        "model3.compile(optimizer='adam', loss='mse')\n",
        "model3.fit(X,y, epochs=200, verbose =0)"
      ],
      "execution_count": 46,
      "outputs": [
        {
          "output_type": "execute_result",
          "data": {
            "text/plain": [
              "<tensorflow.python.keras.callbacks.History at 0x7faadb1b5a20>"
            ]
          },
          "metadata": {
            "tags": []
          },
          "execution_count": 46
        }
      ]
    },
    {
      "cell_type": "code",
      "metadata": {
        "id": "LtQcBLX-Y319",
        "colab_type": "code",
        "colab": {
          "base_uri": "https://localhost:8080/",
          "height": 34
        },
        "outputId": "4af6bcca-f575-4ee8-df71-f9152d4e459e"
      },
      "source": [
        "x_input = array([70, 80, 90])\n",
        "x_input = x_input.reshape((1, n_steps, n_features))\n",
        "model3.predict(x_input, verbose=0)"
      ],
      "execution_count": 47,
      "outputs": [
        {
          "output_type": "execute_result",
          "data": {
            "text/plain": [
              "array([[101.68855]], dtype=float32)"
            ]
          },
          "metadata": {
            "tags": []
          },
          "execution_count": 47
        }
      ]
    },
    {
      "cell_type": "markdown",
      "metadata": {
        "id": "CpACG0IcVQmM",
        "colab_type": "text"
      },
      "source": [
        "## Multivariate LSTM"
      ]
    },
    {
      "cell_type": "code",
      "metadata": {
        "id": "7sIA5kuXm_rG",
        "colab_type": "code",
        "colab": {}
      },
      "source": [
        "\n",
        "# define input sequence\n",
        "in_seq1 = array([10, 20, 30, 40, 50, 60, 70, 80, 90])\n",
        "in_seq2 = array([15, 25, 35, 45, 55, 65, 75, 85, 95])\n",
        "out_seq = array([in_seq1[i]+in_seq2[i] for i in range(len(in_seq1))])\n"
      ],
      "execution_count": 0,
      "outputs": []
    },
    {
      "cell_type": "code",
      "metadata": {
        "id": "YnCseN1enA6v",
        "colab_type": "code",
        "colab": {}
      },
      "source": [
        "import matplotlib.pyplot as plt "
      ],
      "execution_count": 0,
      "outputs": []
    },
    {
      "cell_type": "code",
      "metadata": {
        "id": "tMt2Dr3PnCy9",
        "colab_type": "code",
        "colab": {
          "base_uri": "https://localhost:8080/",
          "height": 282
        },
        "outputId": "71bd0cdc-3759-4d24-fb6e-5afbe220a8ac"
      },
      "source": [
        "plt.plot(in_seq1)\n",
        "plt.plot(in_seq2)\n",
        "plt.plot(out_seq)\n",
        "plt.legend(['seq1','seq2','outseq'])"
      ],
      "execution_count": 53,
      "outputs": [
        {
          "output_type": "execute_result",
          "data": {
            "text/plain": [
              "<matplotlib.legend.Legend at 0x7faada200550>"
            ]
          },
          "metadata": {
            "tags": []
          },
          "execution_count": 53
        },
        {
          "output_type": "display_data",
          "data": {
            "image/png": "[encoded data removed]",
            "text/plain": [
              "<Figure size 432x288 with 1 Axes>"
            ]
          },
          "metadata": {
            "tags": []
          }
        }
      ]
    },
    {
      "cell_type": "code",
      "metadata": {
        "id": "HYX7HgVTnExn",
        "colab_type": "code",
        "colab": {
          "base_uri": "https://localhost:8080/",
          "height": 34
        },
        "outputId": "863abf31-fb67-4229-b0bf-980f44783300"
      },
      "source": [
        "in_seq1"
      ],
      "execution_count": 54,
      "outputs": [
        {
          "output_type": "execute_result",
          "data": {
            "text/plain": [
              "array([10, 20, 30, 40, 50, 60, 70, 80, 90])"
            ]
          },
          "metadata": {
            "tags": []
          },
          "execution_count": 54
        }
      ]
    },
    {
      "cell_type": "code",
      "metadata": {
        "id": "Q7skQ80snzWm",
        "colab_type": "code",
        "colab": {}
      },
      "source": [
        "import numpy as np\n",
        "# convert to [rows, columns] structure\n",
        "in_seq1 = in_seq1.reshape((len(in_seq1), 1))\n",
        "in_seq2 = in_seq2.reshape((len(in_seq2), 1))\n",
        "out_seq = out_seq.reshape((len(out_seq), 1))\n",
        "# horizontally stack columns\n",
        "dataset = np.hstack((in_seq1, in_seq2, out_seq))\n"
      ],
      "execution_count": 0,
      "outputs": []
    },
    {
      "cell_type": "code",
      "metadata": {
        "id": "RmW4lHqyn2h2",
        "colab_type": "code",
        "colab": {
          "base_uri": "https://localhost:8080/",
          "height": 170
        },
        "outputId": "8fbf794f-f427-4c92-8ae5-a40a60e138b5"
      },
      "source": [
        "in_seq1"
      ],
      "execution_count": 58,
      "outputs": [
        {
          "output_type": "execute_result",
          "data": {
            "text/plain": [
              "array([[10],\n",
              "       [20],\n",
              "       [30],\n",
              "       [40],\n",
              "       [50],\n",
              "       [60],\n",
              "       [70],\n",
              "       [80],\n",
              "       [90]])"
            ]
          },
          "metadata": {
            "tags": []
          },
          "execution_count": 58
        }
      ]
    },
    {
      "cell_type": "code",
      "metadata": {
        "id": "JhelQ04Un7Y3",
        "colab_type": "code",
        "colab": {
          "base_uri": "https://localhost:8080/",
          "height": 170
        },
        "outputId": "0d1e9d26-23c6-4e3b-c9ce-8ea9a4e46dd5"
      },
      "source": [
        "dataset"
      ],
      "execution_count": 59,
      "outputs": [
        {
          "output_type": "execute_result",
          "data": {
            "text/plain": [
              "array([[ 10,  15,  25],\n",
              "       [ 20,  25,  45],\n",
              "       [ 30,  35,  65],\n",
              "       [ 40,  45,  85],\n",
              "       [ 50,  55, 105],\n",
              "       [ 60,  65, 125],\n",
              "       [ 70,  75, 145],\n",
              "       [ 80,  85, 165],\n",
              "       [ 90,  95, 185]])"
            ]
          },
          "metadata": {
            "tags": []
          },
          "execution_count": 59
        }
      ]
    },
    {
      "cell_type": "code",
      "metadata": {
        "id": "n4HyC1sSn-7T",
        "colab_type": "code",
        "colab": {}
      },
      "source": [
        "# split a multivariate sequence into samples\n",
        "def split_sequences(sequences, n_steps):\n",
        "\tX, y = list(), list()\n",
        "\tfor i in range(len(sequences)):\n",
        "\t\t# find the end of this pattern\n",
        "\t\tend_ix = i + n_steps\n",
        "\t\t# check if we are beyond the dataset\n",
        "\t\tif end_ix > len(sequences):\n",
        "\t\t\tbreak\n",
        "\t\t# gather input and output parts of the pattern\n",
        "\t\tseq_x, seq_y = sequences[i:end_ix, :-1], sequences[end_ix-1, -1]\n",
        "\t\tX.append(seq_x)\n",
        "\t\ty.append(seq_y)\n",
        "\treturn array(X), array(y)"
      ],
      "execution_count": 0,
      "outputs": []
    },
    {
      "cell_type": "code",
      "metadata": {
        "id": "xkjhnaiooVUf",
        "colab_type": "code",
        "colab": {}
      },
      "source": [
        "n_steps = 3\n",
        "# convert into input/output\n",
        "X, y = split_sequences(dataset, n_steps)\n"
      ],
      "execution_count": 0,
      "outputs": []
    },
    {
      "cell_type": "code",
      "metadata": {
        "id": "iRW8iV0codPi",
        "colab_type": "code",
        "colab": {
          "base_uri": "https://localhost:8080/",
          "height": 391
        },
        "outputId": "8cadceb3-2c1e-481b-cc98-5d4d0bfb836f"
      },
      "source": [
        "print(X.shape, y.shape)\n",
        "# summarize the data\n",
        "for i in range(len(X)):\n",
        "\tprint(X[i], y[i])"
      ],
      "execution_count": 65,
      "outputs": [
        {
          "output_type": "stream",
          "text": [
            "(7, 3, 2) (7,)\n",
            "[[10 15]\n",
            " [20 25]\n",
            " [30 35]] 65\n",
            "[[20 25]\n",
            " [30 35]\n",
            " [40 45]] 85\n",
            "[[30 35]\n",
            " [40 45]\n",
            " [50 55]] 105\n",
            "[[40 45]\n",
            " [50 55]\n",
            " [60 65]] 125\n",
            "[[50 55]\n",
            " [60 65]\n",
            " [70 75]] 145\n",
            "[[60 65]\n",
            " [70 75]\n",
            " [80 85]] 165\n",
            "[[70 75]\n",
            " [80 85]\n",
            " [90 95]] 185\n"
          ],
          "name": "stdout"
        }
      ]
    },
    {
      "cell_type": "code",
      "metadata": {
        "id": "-JyLEj3gowSi",
        "colab_type": "code",
        "colab": {}
      },
      "source": [
        "multi_model = Sequential([\n",
        "                          LSTM(50, activation='relu', input_shape=(3,2)),\n",
        "                          Dense(1)\n",
        "])"
      ],
      "execution_count": 0,
      "outputs": []
    },
    {
      "cell_type": "code",
      "metadata": {
        "id": "itEKrFPbpTSi",
        "colab_type": "code",
        "colab": {}
      },
      "source": [
        "multi_model.compile(optimizer='adam', loss='mse')"
      ],
      "execution_count": 0,
      "outputs": []
    },
    {
      "cell_type": "code",
      "metadata": {
        "id": "EKxVSNySqTba",
        "colab_type": "code",
        "colab": {
          "base_uri": "https://localhost:8080/",
          "height": 1000
        },
        "outputId": "df79f44d-5cfb-478e-e84d-6a98deb02f27"
      },
      "source": [
        "multi_model.fit(X,y, epochs=200)"
      ],
      "execution_count": 74,
      "outputs": [
        {
          "output_type": "stream",
          "text": [
            "Train on 7 samples\n",
            "Epoch 1/200\n",
            "7/7 [==============================] - 0s 1ms/sample - loss: 17700.5098\n",
            "Epoch 2/200\n",
            "7/7 [==============================] - 0s 718us/sample - loss: 17243.9082\n",
            "Epoch 3/200\n",
            "7/7 [==============================] - 0s 610us/sample - loss: 16783.2617\n",
            "Epoch 4/200\n",
            "7/7 [==============================] - 0s 496us/sample - loss: 16324.7256\n",
            "Epoch 5/200\n",
            "7/7 [==============================] - 0s 472us/sample - loss: 15869.4014\n",
            "Epoch 6/200\n",
            "7/7 [==============================] - 0s 544us/sample - loss: 15417.2168\n",
            "Epoch 7/200\n",
            "7/7 [==============================] - 0s 529us/sample - loss: 14966.7627\n",
            "Epoch 8/200\n",
            "7/7 [==============================] - 0s 586us/sample - loss: 14516.0449\n",
            "Epoch 9/200\n",
            "7/7 [==============================] - 0s 830us/sample - loss: 14065.6455\n",
            "Epoch 10/200\n",
            "7/7 [==============================] - 0s 1ms/sample - loss: 13614.7871\n",
            "Epoch 11/200\n",
            "7/7 [==============================] - 0s 1ms/sample - loss: 13157.3389\n",
            "Epoch 12/200\n",
            "7/7 [==============================] - 0s 816us/sample - loss: 12692.2109\n",
            "Epoch 13/200\n",
            "7/7 [==============================] - 0s 667us/sample - loss: 12213.7725\n",
            "Epoch 14/200\n",
            "7/7 [==============================] - 0s 678us/sample - loss: 11718.5381\n",
            "Epoch 15/200\n",
            "7/7 [==============================] - 0s 725us/sample - loss: 11207.4229\n",
            "Epoch 16/200\n",
            "7/7 [==============================] - 0s 662us/sample - loss: 10682.7734\n",
            "Epoch 17/200\n",
            "7/7 [==============================] - 0s 643us/sample - loss: 10154.0840\n",
            "Epoch 18/200\n",
            "7/7 [==============================] - 0s 593us/sample - loss: 9633.3594\n",
            "Epoch 19/200\n",
            "7/7 [==============================] - 0s 794us/sample - loss: 9133.4268\n",
            "Epoch 20/200\n",
            "7/7 [==============================] - 0s 458us/sample - loss: 8653.6631\n",
            "Epoch 21/200\n",
            "7/7 [==============================] - 0s 499us/sample - loss: 8180.5249\n",
            "Epoch 22/200\n",
            "7/7 [==============================] - 0s 602us/sample - loss: 7688.5806\n",
            "Epoch 23/200\n",
            "7/7 [==============================] - 0s 453us/sample - loss: 7140.3467\n",
            "Epoch 24/200\n",
            "7/7 [==============================] - 0s 755us/sample - loss: 6498.6094\n",
            "Epoch 25/200\n",
            "7/7 [==============================] - 0s 635us/sample - loss: 5770.2681\n",
            "Epoch 26/200\n",
            "7/7 [==============================] - 0s 409us/sample - loss: 4980.1685\n",
            "Epoch 27/200\n",
            "7/7 [==============================] - 0s 518us/sample - loss: 4127.3013\n",
            "Epoch 28/200\n",
            "7/7 [==============================] - 0s 663us/sample - loss: 3261.6685\n",
            "Epoch 29/200\n",
            "7/7 [==============================] - 0s 1ms/sample - loss: 2488.9275\n",
            "Epoch 30/200\n",
            "7/7 [==============================] - 0s 1ms/sample - loss: 1863.0624\n",
            "Epoch 31/200\n",
            "7/7 [==============================] - 0s 901us/sample - loss: 1371.1150\n",
            "Epoch 32/200\n",
            "7/7 [==============================] - 0s 700us/sample - loss: 983.5984\n",
            "Epoch 33/200\n",
            "7/7 [==============================] - 0s 679us/sample - loss: 675.6259\n",
            "Epoch 34/200\n",
            "7/7 [==============================] - 0s 938us/sample - loss: 432.4474\n",
            "Epoch 35/200\n",
            "7/7 [==============================] - 0s 738us/sample - loss: 252.8776\n",
            "Epoch 36/200\n",
            "7/7 [==============================] - 0s 660us/sample - loss: 165.7380\n",
            "Epoch 37/200\n",
            "7/7 [==============================] - 0s 538us/sample - loss: 210.3014\n",
            "Epoch 38/200\n",
            "7/7 [==============================] - 0s 826us/sample - loss: 318.3619\n",
            "Epoch 39/200\n",
            "7/7 [==============================] - 0s 764us/sample - loss: 417.7749\n",
            "Epoch 40/200\n",
            "7/7 [==============================] - 0s 879us/sample - loss: 479.8436\n",
            "Epoch 41/200\n",
            "7/7 [==============================] - 0s 707us/sample - loss: 497.6248\n",
            "Epoch 42/200\n",
            "7/7 [==============================] - 0s 583us/sample - loss: 477.8835\n",
            "Epoch 43/200\n",
            "7/7 [==============================] - 0s 771us/sample - loss: 434.5060\n",
            "Epoch 44/200\n",
            "7/7 [==============================] - 0s 674us/sample - loss: 378.5719\n",
            "Epoch 45/200\n",
            "7/7 [==============================] - 0s 654us/sample - loss: 313.7158\n",
            "Epoch 46/200\n",
            "7/7 [==============================] - 0s 775us/sample - loss: 244.2699\n",
            "Epoch 47/200\n",
            "7/7 [==============================] - 0s 803us/sample - loss: 183.4252\n",
            "Epoch 48/200\n",
            "7/7 [==============================] - 0s 804us/sample - loss: 144.4546\n",
            "Epoch 49/200\n",
            "7/7 [==============================] - 0s 817us/sample - loss: 123.9183\n",
            "Epoch 50/200\n",
            "7/7 [==============================] - 0s 1ms/sample - loss: 113.5018\n",
            "Epoch 51/200\n",
            "7/7 [==============================] - 0s 591us/sample - loss: 108.6201\n",
            "Epoch 52/200\n",
            "7/7 [==============================] - 0s 825us/sample - loss: 107.0826\n",
            "Epoch 53/200\n",
            "7/7 [==============================] - 0s 853us/sample - loss: 107.5606\n",
            "Epoch 54/200\n",
            "7/7 [==============================] - 0s 883us/sample - loss: 109.1440\n",
            "Epoch 55/200\n",
            "7/7 [==============================] - 0s 876us/sample - loss: 111.0963\n",
            "Epoch 56/200\n",
            "7/7 [==============================] - 0s 786us/sample - loss: 112.8402\n",
            "Epoch 57/200\n",
            "7/7 [==============================] - 0s 772us/sample - loss: 113.8876\n",
            "Epoch 58/200\n",
            "7/7 [==============================] - 0s 803us/sample - loss: 113.9553\n",
            "Epoch 59/200\n",
            "7/7 [==============================] - 0s 746us/sample - loss: 112.9424\n",
            "Epoch 60/200\n",
            "7/7 [==============================] - 0s 861us/sample - loss: 110.8411\n",
            "Epoch 61/200\n",
            "7/7 [==============================] - 0s 759us/sample - loss: 107.7599\n",
            "Epoch 62/200\n",
            "7/7 [==============================] - 0s 800us/sample - loss: 103.9917\n",
            "Epoch 63/200\n",
            "7/7 [==============================] - 0s 766us/sample - loss: 99.8381\n",
            "Epoch 64/200\n",
            "7/7 [==============================] - 0s 731us/sample - loss: 95.5066\n",
            "Epoch 65/200\n",
            "7/7 [==============================] - 0s 718us/sample - loss: 91.1334\n",
            "Epoch 66/200\n",
            "7/7 [==============================] - 0s 730us/sample - loss: 86.8442\n",
            "Epoch 67/200\n",
            "7/7 [==============================] - 0s 749us/sample - loss: 82.7457\n",
            "Epoch 68/200\n",
            "7/7 [==============================] - 0s 802us/sample - loss: 78.8697\n",
            "Epoch 69/200\n",
            "7/7 [==============================] - 0s 780us/sample - loss: 75.1997\n",
            "Epoch 70/200\n",
            "7/7 [==============================] - 0s 785us/sample - loss: 71.7427\n",
            "Epoch 71/200\n",
            "7/7 [==============================] - 0s 722us/sample - loss: 68.5409\n",
            "Epoch 72/200\n",
            "7/7 [==============================] - 0s 809us/sample - loss: 65.6635\n",
            "Epoch 73/200\n",
            "7/7 [==============================] - 0s 822us/sample - loss: 63.1265\n",
            "Epoch 74/200\n",
            "7/7 [==============================] - 0s 728us/sample - loss: 60.7869\n",
            "Epoch 75/200\n",
            "7/7 [==============================] - 0s 1ms/sample - loss: 58.4750\n",
            "Epoch 76/200\n",
            "7/7 [==============================] - 0s 738us/sample - loss: 56.0686\n",
            "Epoch 77/200\n",
            "7/7 [==============================] - 0s 869us/sample - loss: 53.6160\n",
            "Epoch 78/200\n",
            "7/7 [==============================] - 0s 809us/sample - loss: 51.1203\n",
            "Epoch 79/200\n",
            "7/7 [==============================] - 0s 870us/sample - loss: 48.5774\n",
            "Epoch 80/200\n",
            "7/7 [==============================] - 0s 1ms/sample - loss: 45.9840\n",
            "Epoch 81/200\n",
            "7/7 [==============================] - 0s 1ms/sample - loss: 43.2806\n",
            "Epoch 82/200\n",
            "7/7 [==============================] - 0s 908us/sample - loss: 40.4461\n",
            "Epoch 83/200\n",
            "7/7 [==============================] - 0s 848us/sample - loss: 37.4596\n",
            "Epoch 84/200\n",
            "7/7 [==============================] - 0s 959us/sample - loss: 34.4259\n",
            "Epoch 85/200\n",
            "7/7 [==============================] - 0s 890us/sample - loss: 31.6259\n",
            "Epoch 86/200\n",
            "7/7 [==============================] - 0s 1ms/sample - loss: 28.7921\n",
            "Epoch 87/200\n",
            "7/7 [==============================] - 0s 1ms/sample - loss: 25.9501\n",
            "Epoch 88/200\n",
            "7/7 [==============================] - 0s 577us/sample - loss: 23.1472\n",
            "Epoch 89/200\n",
            "7/7 [==============================] - 0s 870us/sample - loss: 20.4203\n",
            "Epoch 90/200\n",
            "7/7 [==============================] - 0s 492us/sample - loss: 17.8191\n",
            "Epoch 91/200\n",
            "7/7 [==============================] - 0s 1ms/sample - loss: 15.4424\n",
            "Epoch 92/200\n",
            "7/7 [==============================] - 0s 1ms/sample - loss: 13.3865\n",
            "Epoch 93/200\n",
            "7/7 [==============================] - 0s 565us/sample - loss: 11.6975\n",
            "Epoch 94/200\n",
            "7/7 [==============================] - 0s 1ms/sample - loss: 10.3486\n",
            "Epoch 95/200\n",
            "7/7 [==============================] - 0s 1ms/sample - loss: 9.3869\n",
            "Epoch 96/200\n",
            "7/7 [==============================] - 0s 999us/sample - loss: 8.7690\n",
            "Epoch 97/200\n",
            "7/7 [==============================] - 0s 684us/sample - loss: 8.3904\n",
            "Epoch 98/200\n",
            "7/7 [==============================] - 0s 722us/sample - loss: 8.1558\n",
            "Epoch 99/200\n",
            "7/7 [==============================] - 0s 859us/sample - loss: 7.9777\n",
            "Epoch 100/200\n",
            "7/7 [==============================] - 0s 799us/sample - loss: 7.8099\n",
            "Epoch 101/200\n",
            "7/7 [==============================] - 0s 727us/sample - loss: 7.5893\n",
            "Epoch 102/200\n",
            "7/7 [==============================] - 0s 1ms/sample - loss: 7.2735\n",
            "Epoch 103/200\n",
            "7/7 [==============================] - 0s 1ms/sample - loss: 6.8721\n",
            "Epoch 104/200\n",
            "7/7 [==============================] - 0s 906us/sample - loss: 6.4505\n",
            "Epoch 105/200\n",
            "7/7 [==============================] - 0s 898us/sample - loss: 6.1261\n",
            "Epoch 106/200\n",
            "7/7 [==============================] - 0s 668us/sample - loss: 5.9104\n",
            "Epoch 107/200\n",
            "7/7 [==============================] - 0s 668us/sample - loss: 5.7265\n",
            "Epoch 108/200\n",
            "7/7 [==============================] - 0s 411us/sample - loss: 5.5177\n",
            "Epoch 109/200\n",
            "7/7 [==============================] - 0s 584us/sample - loss: 5.2696\n",
            "Epoch 110/200\n",
            "7/7 [==============================] - 0s 575us/sample - loss: 5.0099\n",
            "Epoch 111/200\n",
            "7/7 [==============================] - 0s 600us/sample - loss: 4.7776\n",
            "Epoch 112/200\n",
            "7/7 [==============================] - 0s 641us/sample - loss: 4.5908\n",
            "Epoch 113/200\n",
            "7/7 [==============================] - 0s 538us/sample - loss: 4.4371\n",
            "Epoch 114/200\n",
            "7/7 [==============================] - 0s 544us/sample - loss: 4.2906\n",
            "Epoch 115/200\n",
            "7/7 [==============================] - 0s 626us/sample - loss: 4.1309\n",
            "Epoch 116/200\n",
            "7/7 [==============================] - 0s 612us/sample - loss: 3.9607\n",
            "Epoch 117/200\n",
            "7/7 [==============================] - 0s 526us/sample - loss: 3.7981\n",
            "Epoch 118/200\n",
            "7/7 [==============================] - 0s 527us/sample - loss: 3.6584\n",
            "Epoch 119/200\n",
            "7/7 [==============================] - 0s 509us/sample - loss: 3.5428\n",
            "Epoch 120/200\n",
            "7/7 [==============================] - 0s 486us/sample - loss: 3.4409\n",
            "Epoch 121/200\n",
            "7/7 [==============================] - 0s 486us/sample - loss: 3.3403\n",
            "Epoch 122/200\n",
            "7/7 [==============================] - 0s 545us/sample - loss: 3.2353\n",
            "Epoch 123/200\n",
            "7/7 [==============================] - 0s 551us/sample - loss: 3.1284\n",
            "Epoch 124/200\n",
            "7/7 [==============================] - 0s 475us/sample - loss: 3.0265\n",
            "Epoch 125/200\n",
            "7/7 [==============================] - 0s 614us/sample - loss: 2.9344\n",
            "Epoch 126/200\n",
            "7/7 [==============================] - 0s 615us/sample - loss: 2.8519\n",
            "Epoch 127/200\n",
            "7/7 [==============================] - 0s 529us/sample - loss: 2.7746\n",
            "Epoch 128/200\n",
            "7/7 [==============================] - 0s 529us/sample - loss: 2.6984\n",
            "Epoch 129/200\n",
            "7/7 [==============================] - 0s 626us/sample - loss: 2.6193\n",
            "Epoch 130/200\n",
            "7/7 [==============================] - 0s 983us/sample - loss: 2.5387\n",
            "Epoch 131/200\n",
            "7/7 [==============================] - 0s 1ms/sample - loss: 2.4610\n",
            "Epoch 132/200\n",
            "7/7 [==============================] - 0s 1ms/sample - loss: 2.3893\n",
            "Epoch 133/200\n",
            "7/7 [==============================] - 0s 893us/sample - loss: 2.3244\n",
            "Epoch 134/200\n",
            "7/7 [==============================] - 0s 628us/sample - loss: 2.2638\n",
            "Epoch 135/200\n",
            "7/7 [==============================] - 0s 638us/sample - loss: 2.2050\n",
            "Epoch 136/200\n",
            "7/7 [==============================] - 0s 717us/sample - loss: 2.1468\n",
            "Epoch 137/200\n",
            "7/7 [==============================] - 0s 1ms/sample - loss: 2.0897\n",
            "Epoch 138/200\n",
            "7/7 [==============================] - 0s 985us/sample - loss: 2.0356\n",
            "Epoch 139/200\n",
            "7/7 [==============================] - 0s 823us/sample - loss: 1.9856\n",
            "Epoch 140/200\n",
            "7/7 [==============================] - 0s 651us/sample - loss: 1.9396\n",
            "Epoch 141/200\n",
            "7/7 [==============================] - 0s 1ms/sample - loss: 1.8963\n",
            "Epoch 142/200\n",
            "7/7 [==============================] - 0s 786us/sample - loss: 1.8543\n",
            "Epoch 143/200\n",
            "7/7 [==============================] - 0s 2ms/sample - loss: 1.8128\n",
            "Epoch 144/200\n",
            "7/7 [==============================] - 0s 1ms/sample - loss: 1.7719\n",
            "Epoch 145/200\n",
            "7/7 [==============================] - 0s 1ms/sample - loss: 1.7335\n",
            "Epoch 146/200\n",
            "7/7 [==============================] - 0s 991us/sample - loss: 1.6970\n",
            "Epoch 147/200\n",
            "7/7 [==============================] - 0s 611us/sample - loss: 1.6622\n",
            "Epoch 148/200\n",
            "7/7 [==============================] - 0s 527us/sample - loss: 1.6286\n",
            "Epoch 149/200\n",
            "7/7 [==============================] - 0s 479us/sample - loss: 1.5954\n",
            "Epoch 150/200\n",
            "7/7 [==============================] - 0s 485us/sample - loss: 1.5625\n",
            "Epoch 151/200\n",
            "7/7 [==============================] - 0s 505us/sample - loss: 1.5302\n",
            "Epoch 152/200\n",
            "7/7 [==============================] - 0s 1ms/sample - loss: 1.4989\n",
            "Epoch 153/200\n",
            "7/7 [==============================] - 0s 955us/sample - loss: 1.4689\n",
            "Epoch 154/200\n",
            "7/7 [==============================] - 0s 983us/sample - loss: 1.4400\n",
            "Epoch 155/200\n",
            "7/7 [==============================] - 0s 579us/sample - loss: 1.4124\n",
            "Epoch 156/200\n",
            "7/7 [==============================] - 0s 599us/sample - loss: 1.3854\n",
            "Epoch 157/200\n",
            "7/7 [==============================] - 0s 1ms/sample - loss: 1.3589\n",
            "Epoch 158/200\n",
            "7/7 [==============================] - 0s 589us/sample - loss: 1.3330\n",
            "Epoch 159/200\n",
            "7/7 [==============================] - 0s 995us/sample - loss: 1.3077\n",
            "Epoch 160/200\n",
            "7/7 [==============================] - 0s 669us/sample - loss: 1.2832\n",
            "Epoch 161/200\n",
            "7/7 [==============================] - 0s 980us/sample - loss: 1.2594\n",
            "Epoch 162/200\n",
            "7/7 [==============================] - 0s 875us/sample - loss: 1.2360\n",
            "Epoch 163/200\n",
            "7/7 [==============================] - 0s 1ms/sample - loss: 1.2130\n",
            "Epoch 164/200\n",
            "7/7 [==============================] - 0s 802us/sample - loss: 1.1906\n",
            "Epoch 165/200\n",
            "7/7 [==============================] - 0s 893us/sample - loss: 1.1686\n",
            "Epoch 166/200\n",
            "7/7 [==============================] - 0s 759us/sample - loss: 1.1469\n",
            "Epoch 167/200\n",
            "7/7 [==============================] - 0s 794us/sample - loss: 1.1255\n",
            "Epoch 168/200\n",
            "7/7 [==============================] - 0s 727us/sample - loss: 1.1043\n",
            "Epoch 169/200\n",
            "7/7 [==============================] - 0s 756us/sample - loss: 1.0834\n",
            "Epoch 170/200\n",
            "7/7 [==============================] - 0s 751us/sample - loss: 1.0629\n",
            "Epoch 171/200\n",
            "7/7 [==============================] - 0s 648us/sample - loss: 1.0427\n",
            "Epoch 172/200\n",
            "7/7 [==============================] - 0s 683us/sample - loss: 1.0227\n",
            "Epoch 173/200\n",
            "7/7 [==============================] - 0s 901us/sample - loss: 1.0030\n",
            "Epoch 174/200\n",
            "7/7 [==============================] - 0s 790us/sample - loss: 0.9836\n",
            "Epoch 175/200\n",
            "7/7 [==============================] - 0s 819us/sample - loss: 0.9644\n",
            "Epoch 176/200\n",
            "7/7 [==============================] - 0s 591us/sample - loss: 0.9455\n",
            "Epoch 177/200\n",
            "7/7 [==============================] - 0s 784us/sample - loss: 0.9270\n",
            "Epoch 178/200\n",
            "7/7 [==============================] - 0s 571us/sample - loss: 0.9087\n",
            "Epoch 179/200\n",
            "7/7 [==============================] - 0s 594us/sample - loss: 0.8904\n",
            "Epoch 180/200\n",
            "7/7 [==============================] - 0s 721us/sample - loss: 0.8724\n",
            "Epoch 181/200\n",
            "7/7 [==============================] - 0s 712us/sample - loss: 0.8544\n",
            "Epoch 182/200\n",
            "7/7 [==============================] - 0s 728us/sample - loss: 0.8366\n",
            "Epoch 183/200\n",
            "7/7 [==============================] - 0s 663us/sample - loss: 0.8189\n",
            "Epoch 184/200\n",
            "7/7 [==============================] - 0s 713us/sample - loss: 0.8013\n",
            "Epoch 185/200\n",
            "7/7 [==============================] - 0s 715us/sample - loss: 0.7841\n",
            "Epoch 186/200\n",
            "7/7 [==============================] - 0s 767us/sample - loss: 0.7671\n",
            "Epoch 187/200\n",
            "7/7 [==============================] - 0s 570us/sample - loss: 0.7503\n",
            "Epoch 188/200\n",
            "7/7 [==============================] - 0s 705us/sample - loss: 0.7338\n",
            "Epoch 189/200\n",
            "7/7 [==============================] - 0s 771us/sample - loss: 0.7174\n",
            "Epoch 190/200\n",
            "7/7 [==============================] - 0s 763us/sample - loss: 0.7012\n",
            "Epoch 191/200\n",
            "7/7 [==============================] - 0s 732us/sample - loss: 0.6855\n",
            "Epoch 192/200\n",
            "7/7 [==============================] - 0s 770us/sample - loss: 0.6701\n",
            "Epoch 193/200\n",
            "7/7 [==============================] - 0s 748us/sample - loss: 0.6549\n",
            "Epoch 194/200\n",
            "7/7 [==============================] - 0s 798us/sample - loss: 0.6398\n",
            "Epoch 195/200\n",
            "7/7 [==============================] - 0s 752us/sample - loss: 0.6249\n",
            "Epoch 196/200\n",
            "7/7 [==============================] - 0s 756us/sample - loss: 0.6101\n",
            "Epoch 197/200\n",
            "7/7 [==============================] - 0s 764us/sample - loss: 0.5956\n",
            "Epoch 198/200\n",
            "7/7 [==============================] - 0s 769us/sample - loss: 0.5811\n",
            "Epoch 199/200\n",
            "7/7 [==============================] - 0s 704us/sample - loss: 0.5669\n",
            "Epoch 200/200\n",
            "7/7 [==============================] - 0s 697us/sample - loss: 0.5530\n"
          ],
          "name": "stdout"
        },
        {
          "output_type": "execute_result",
          "data": {
            "text/plain": [
              "<tensorflow.python.keras.callbacks.History at 0x7faada192b38>"
            ]
          },
          "metadata": {
            "tags": []
          },
          "execution_count": 74
        }
      ]
    },
    {
      "cell_type": "code",
      "metadata": {
        "id": "54txsjZCpYu7",
        "colab_type": "code",
        "colab": {}
      },
      "source": [
        "x_input = array([[80, 85], [90, 95], [100, 105]])\n",
        "x_input = x_input.reshape((1, 3, 2))\n"
      ],
      "execution_count": 0,
      "outputs": []
    },
    {
      "cell_type": "code",
      "metadata": {
        "id": "_ZIPuxa0qpvD",
        "colab_type": "code",
        "colab": {
          "base_uri": "https://localhost:8080/",
          "height": 68
        },
        "outputId": "f2ac3841-4fc1-49cc-cc8c-fcf66802fed8"
      },
      "source": [
        "x_input"
      ],
      "execution_count": 76,
      "outputs": [
        {
          "output_type": "execute_result",
          "data": {
            "text/plain": [
              "array([[[ 80,  85],\n",
              "        [ 90,  95],\n",
              "        [100, 105]]])"
            ]
          },
          "metadata": {
            "tags": []
          },
          "execution_count": 76
        }
      ]
    },
    {
      "cell_type": "code",
      "metadata": {
        "id": "GRzCRL4Tqq1Z",
        "colab_type": "code",
        "colab": {
          "base_uri": "https://localhost:8080/",
          "height": 34
        },
        "outputId": "b4249edd-07e8-4c09-cb04-ef00c0bce3c4"
      },
      "source": [
        "multi_model.predict(x_input)"
      ],
      "execution_count": 77,
      "outputs": [
        {
          "output_type": "execute_result",
          "data": {
            "text/plain": [
              "array([[207.3594]], dtype=float32)"
            ]
          },
          "metadata": {
            "tags": []
          },
          "execution_count": 77
        }
      ]
    },
    {
      "cell_type": "code",
      "metadata": {
        "id": "Zb8h2UqHqwVT",
        "colab_type": "code",
        "colab": {}
      },
      "source": [
        "##"
      ],
      "execution_count": 0,
      "outputs": []
    },
    {
      "cell_type": "markdown",
      "metadata": {
        "id": "IjU0GZw1rXG0",
        "colab_type": "text"
      },
      "source": [
        "# very nice post : \n",
        "https://machinelearningmastery.com/how-to-develop-lstm-models-for-time-series-forecasting/"
      ]
    }
  ]
}
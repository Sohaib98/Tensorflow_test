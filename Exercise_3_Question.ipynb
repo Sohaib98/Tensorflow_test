{
  "nbformat": 4,
  "nbformat_minor": 0,
  "metadata": {
    "colab": {
      "name": "“Exercise 3 - Question.ipynb”的副本",
      "version": "0.3.2",
      "provenance": [],
      "collapsed_sections": [],
      "include_colab_link": true
    },
    "kernelspec": {
      "name": "python3",
      "display_name": "Python 3"
    },
    "accelerator": "GPU"
  },
  "cells": [
    {
      "cell_type": "markdown",
      "metadata": {
        "id": "view-in-github",
        "colab_type": "text"
      },
      "source": [
        "<a href=\"https://colab.research.google.com/github/luoChengwen/Tensorflow_test/blob/master/Exercise_3_Question.ipynb\" target=\"_parent\"><img src=\"https://colab.research.google.com/assets/colab-badge.svg\" alt=\"Open In Colab\"/></a>"
      ]
    },
    {
      "cell_type": "markdown",
      "metadata": {
        "id": "iQjHqsmTAVLU",
        "colab_type": "text"
      },
      "source": [
        "## Exercise 3\n",
        "In the videos you looked at how you would improve Fashion MNIST using Convolutions. For your exercise see if you can improve MNIST to 99.8% accuracy or more using only a single convolutional layer and a single MaxPooling 2D. You should stop training once the accuracy goes above this amount. It should happen in less than 20 epochs, so it's ok to hard code the number of epochs for training, but your training must end once it hits the above metric. If it doesn't, then you'll need to redesign your layers.\n",
        "\n",
        "I've started the code for you -- you need to finish it!\n",
        "\n",
        "When 99.8% accuracy has been hit, you should print out the string \"Reached 99.8% accuracy so cancelling training!\"\n"
      ]
    },
    {
      "cell_type": "code",
      "metadata": {
        "id": "sfQRyaJWAIdg",
        "colab_type": "code",
        "colab": {
          "base_uri": "https://localhost:8080/",
          "height": 340
        },
        "outputId": "a52d8c0c-f6c9-442a-f58d-83a7ee171bae"
      },
      "source": [
        "import tensorflow as tf\n",
        "import numpy as np\n",
        "# YOUR CODE STARTS HERE\n",
        "class mycallback(tf.keras.callbacks.Callback):\n",
        "  def on_epoch_end(self,model,logs={}):\n",
        "    if (logs.get('acc')>.998):\n",
        "      self.model.stop_training = True\n",
        "      print('accuracy reached 99.8%')\n",
        "# YOUR CODE ENDS HERE\n",
        "\n",
        "mnist = tf.keras.datasets.mnist\n",
        "(training_images, training_labels), (test_images, test_labels) = mnist.load_data()\n",
        "\n",
        "\n",
        "# YOUR CODE STARTS HERE\n",
        "training_images = training_images/255\n",
        "test_images = test_images/255\n",
        "# YOUR CODE ENDS HERE\n",
        "\n",
        "print(np.shape(training_images))\n",
        "training_images=training_images.reshape(60000, 28, 28, 1)\n",
        "\n",
        "model = tf.keras.models.Sequential([\n",
        "    # YOUR CODE STARTS HERE\n",
        "    tf.keras.layers.Conv2D(32,(3,3), activation= tf.nn.relu, input_shape=(28,28,1)),\n",
        "    tf.keras.layers.MaxPooling2D((2,2)),\n",
        "    tf.keras.layers.Flatten(),\n",
        "    tf.keras.layers.Dense(256, activation = tf.nn.relu),\n",
        "    tf.keras.layers.Dense(10, activation = tf.nn.softmax)\n",
        "    # YOUR CODE ENDS HERE\n",
        "])\n",
        "\n",
        "# YOUR CODE STARTS HERE\n",
        "mycallback = mycallback()\n",
        "model.compile(optimizer = 'adam', metrics=['accuracy'], loss='sparse_categorical_crossentropy')\n",
        "model.fit(training_images, training_labels, epochs=20, callbacks= [mycallback])\n",
        "# YOUR CODE ENDS HERE\n",
        "\n",
        "\n"
      ],
      "execution_count": 22,
      "outputs": [
        {
          "output_type": "stream",
          "text": [
            "(60000, 28, 28)\n",
            "Epoch 1/20\n",
            "60000/60000 [==============================] - 6s 101us/sample - loss: 0.1353 - acc: 0.9594\n",
            "Epoch 2/20\n",
            "60000/60000 [==============================] - 6s 97us/sample - loss: 0.0456 - acc: 0.9859\n",
            "Epoch 3/20\n",
            "60000/60000 [==============================] - 6s 96us/sample - loss: 0.0274 - acc: 0.9918\n",
            "Epoch 4/20\n",
            "60000/60000 [==============================] - 6s 97us/sample - loss: 0.0166 - acc: 0.9947\n",
            "Epoch 5/20\n",
            "60000/60000 [==============================] - 6s 96us/sample - loss: 0.0127 - acc: 0.9958\n",
            "Epoch 6/20\n",
            "60000/60000 [==============================] - 6s 96us/sample - loss: 0.0086 - acc: 0.9973\n",
            "Epoch 7/20\n",
            "60000/60000 [==============================] - 6s 97us/sample - loss: 0.0061 - acc: 0.9979\n",
            "Epoch 8/20\n",
            "59520/60000 [============================>.] - ETA: 0s - loss: 0.0049 - acc: 0.9985accuracy reached 99.8%\n",
            "60000/60000 [==============================] - 6s 98us/sample - loss: 0.0049 - acc: 0.9985\n"
          ],
          "name": "stdout"
        },
        {
          "output_type": "execute_result",
          "data": {
            "text/plain": [
              "<tensorflow.python.keras.callbacks.History at 0x7f9a20109128>"
            ]
          },
          "metadata": {
            "tags": []
          },
          "execution_count": 22
        }
      ]
    },
    {
      "cell_type": "code",
      "metadata": {
        "id": "oyP9W89P6qJW",
        "colab_type": "code",
        "colab": {}
      },
      "source": [
        ""
      ],
      "execution_count": 0,
      "outputs": []
    }
  ]
}
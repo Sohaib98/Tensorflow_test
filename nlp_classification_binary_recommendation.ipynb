{
 "cells": [
  {
   "cell_type": "code",
   "execution_count": 1,
   "metadata": {},
   "outputs": [],
   "source": [
    "import tensorflow as tf\n",
    "import nltk\n",
    "import numpy as np\n",
    "import pandas as pd\n"
   ]
  },
  {
   "cell_type": "code",
   "execution_count": 2,
   "metadata": {},
   "outputs": [
    {
     "name": "stdout",
     "output_type": "stream",
     "text": [
      "2.0.0-beta0\n"
     ]
    }
   ],
   "source": [
    "print(tf.__version__)"
   ]
  },
  {
   "cell_type": "code",
   "execution_count": 4,
   "metadata": {},
   "outputs": [
    {
     "name": "stderr",
     "output_type": "stream",
     "text": [
      "/anaconda3/envs/Tensorflow_test/lib/python3.7/site-packages/IPython/core/interactiveshell.py:3058: DtypeWarning: Columns (25,26) have mixed types. Specify dtype option on import or set low_memory=False.\n",
      "  interactivity=interactivity, compiler=compiler, result=result)\n"
     ]
    }
   ],
   "source": [
    "train = pd.read_csv('/Users/daisy/Downloads/nyt-comments/CommentsApril2017.csv')"
   ]
  },
  {
   "cell_type": "code",
   "execution_count": 5,
   "metadata": {},
   "outputs": [
    {
     "data": {
      "text/html": [
       "<div>\n",
       "<style scoped>\n",
       "    .dataframe tbody tr th:only-of-type {\n",
       "        vertical-align: middle;\n",
       "    }\n",
       "\n",
       "    .dataframe tbody tr th {\n",
       "        vertical-align: top;\n",
       "    }\n",
       "\n",
       "    .dataframe thead th {\n",
       "        text-align: right;\n",
       "    }\n",
       "</style>\n",
       "<table border=\"1\" class=\"dataframe\">\n",
       "  <thead>\n",
       "    <tr style=\"text-align: right;\">\n",
       "      <th></th>\n",
       "      <th>approveDate</th>\n",
       "      <th>commentBody</th>\n",
       "      <th>commentID</th>\n",
       "      <th>commentSequence</th>\n",
       "      <th>commentTitle</th>\n",
       "      <th>commentType</th>\n",
       "      <th>createDate</th>\n",
       "      <th>depth</th>\n",
       "      <th>editorsSelection</th>\n",
       "      <th>parentID</th>\n",
       "      <th>...</th>\n",
       "      <th>userLocation</th>\n",
       "      <th>userTitle</th>\n",
       "      <th>userURL</th>\n",
       "      <th>inReplyTo</th>\n",
       "      <th>articleID</th>\n",
       "      <th>sectionName</th>\n",
       "      <th>newDesk</th>\n",
       "      <th>articleWordCount</th>\n",
       "      <th>printPage</th>\n",
       "      <th>typeOfMaterial</th>\n",
       "    </tr>\n",
       "  </thead>\n",
       "  <tbody>\n",
       "    <tr>\n",
       "      <th>0</th>\n",
       "      <td>1491245186</td>\n",
       "      <td>This project makes me happy to be a 30+ year T...</td>\n",
       "      <td>22022598.0</td>\n",
       "      <td>22022598</td>\n",
       "      <td>&lt;br/&gt;</td>\n",
       "      <td>comment</td>\n",
       "      <td>1.491237e+09</td>\n",
       "      <td>1</td>\n",
       "      <td>False</td>\n",
       "      <td>0.0</td>\n",
       "      <td>...</td>\n",
       "      <td>Riverside, CA</td>\n",
       "      <td>NaN</td>\n",
       "      <td>NaN</td>\n",
       "      <td>0</td>\n",
       "      <td>58def1347c459f24986d7c80</td>\n",
       "      <td>Unknown</td>\n",
       "      <td>Insider</td>\n",
       "      <td>716.0</td>\n",
       "      <td>2</td>\n",
       "      <td>News</td>\n",
       "    </tr>\n",
       "    <tr>\n",
       "      <th>1</th>\n",
       "      <td>1491188619</td>\n",
       "      <td>Stunning photos and reportage. Infuriating tha...</td>\n",
       "      <td>22017350.0</td>\n",
       "      <td>22017350</td>\n",
       "      <td>NaN</td>\n",
       "      <td>comment</td>\n",
       "      <td>1.491180e+09</td>\n",
       "      <td>1</td>\n",
       "      <td>False</td>\n",
       "      <td>0.0</td>\n",
       "      <td>...</td>\n",
       "      <td>&lt;br/&gt;</td>\n",
       "      <td>NaN</td>\n",
       "      <td>NaN</td>\n",
       "      <td>0</td>\n",
       "      <td>58def1347c459f24986d7c80</td>\n",
       "      <td>Unknown</td>\n",
       "      <td>Insider</td>\n",
       "      <td>716.0</td>\n",
       "      <td>2</td>\n",
       "      <td>News</td>\n",
       "    </tr>\n",
       "    <tr>\n",
       "      <th>2</th>\n",
       "      <td>1491188617</td>\n",
       "      <td>Brilliant work from conception to execution. I...</td>\n",
       "      <td>22017334.0</td>\n",
       "      <td>22017334</td>\n",
       "      <td>&lt;br/&gt;</td>\n",
       "      <td>comment</td>\n",
       "      <td>1.491179e+09</td>\n",
       "      <td>1</td>\n",
       "      <td>False</td>\n",
       "      <td>0.0</td>\n",
       "      <td>...</td>\n",
       "      <td>Raleigh NC</td>\n",
       "      <td>NaN</td>\n",
       "      <td>NaN</td>\n",
       "      <td>0</td>\n",
       "      <td>58def1347c459f24986d7c80</td>\n",
       "      <td>Unknown</td>\n",
       "      <td>Insider</td>\n",
       "      <td>716.0</td>\n",
       "      <td>2</td>\n",
       "      <td>News</td>\n",
       "    </tr>\n",
       "  </tbody>\n",
       "</table>\n",
       "<p>3 rows × 34 columns</p>\n",
       "</div>"
      ],
      "text/plain": [
       "   approveDate                                        commentBody   commentID  \\\n",
       "0   1491245186  This project makes me happy to be a 30+ year T...  22022598.0   \n",
       "1   1491188619  Stunning photos and reportage. Infuriating tha...  22017350.0   \n",
       "2   1491188617  Brilliant work from conception to execution. I...  22017334.0   \n",
       "\n",
       "   commentSequence commentTitle commentType    createDate  depth  \\\n",
       "0         22022598        <br/>     comment  1.491237e+09      1   \n",
       "1         22017350          NaN     comment  1.491180e+09      1   \n",
       "2         22017334        <br/>     comment  1.491179e+09      1   \n",
       "\n",
       "   editorsSelection  parentID  ...   userLocation userTitle userURL  \\\n",
       "0             False       0.0  ...  Riverside, CA       NaN     NaN   \n",
       "1             False       0.0  ...          <br/>       NaN     NaN   \n",
       "2             False       0.0  ...     Raleigh NC       NaN     NaN   \n",
       "\n",
       "   inReplyTo                 articleID  sectionName  newDesk  \\\n",
       "0          0  58def1347c459f24986d7c80      Unknown  Insider   \n",
       "1          0  58def1347c459f24986d7c80      Unknown  Insider   \n",
       "2          0  58def1347c459f24986d7c80      Unknown  Insider   \n",
       "\n",
       "   articleWordCount printPage  typeOfMaterial  \n",
       "0             716.0         2            News  \n",
       "1             716.0         2            News  \n",
       "2             716.0         2            News  \n",
       "\n",
       "[3 rows x 34 columns]"
      ]
     },
     "execution_count": 5,
     "metadata": {},
     "output_type": "execute_result"
    }
   ],
   "source": [
    "train.head(3)\n",
    "# so it seems commentBody contains the main info"
   ]
  },
  {
   "cell_type": "code",
   "execution_count": 14,
   "metadata": {},
   "outputs": [
    {
     "name": "stdout",
     "output_type": "stream",
     "text": [
      "0    This project makes me happy to be a 30+ year T...\n",
      "1    Stunning photos and reportage. Infuriating tha...\n",
      "2    Brilliant work from conception to execution. I...\n",
      "3    NYT reporters should provide a contributor's l...\n",
      "4       Could only have been done in print. Stunning. \n",
      "Name: commentBody, dtype: object\n",
      "-----------\n",
      "0    this project makes me happy to be a 30 year ti...\n",
      "1    stunning photos and reportage infuriating that...\n",
      "2    brilliant work from conception to execution iv...\n",
      "3    nyt reporters should provide a contributors li...\n",
      "4         could only have been done in print stunning \n",
      "Name: CommentBody_no_punc, dtype: object\n"
     ]
    }
   ],
   "source": [
    "train['CommentBody_lower'] = train['commentBody'].str.lower() # transform it to lower case\n",
    "train['CommentBody_no_punc'] = train['CommentBody_lower'].str.replace('[^\\w\\s]','')\n",
    "print(train['commentBody'].head())\n",
    "print('-----------')\n",
    "print(train['CommentBody_no_punc'].head())\n"
   ]
  },
  {
   "cell_type": "code",
   "execution_count": 18,
   "metadata": {},
   "outputs": [],
   "source": [
    "from tensorflow.keras.preprocessing.text import Tokenizer\n",
    "from tensorflow.keras.preprocessing.sequence import pad_sequences\n",
    "\n",
    "\n"
   ]
  },
  {
   "cell_type": "code",
   "execution_count": 68,
   "metadata": {},
   "outputs": [],
   "source": [
    "max_length = 20\n",
    "embedding_dim = 120\n",
    "trunc_type = 'post'\n",
    "pad_type = 'post'\n",
    "oov_tok = '<OOV>'"
   ]
  },
  {
   "cell_type": "code",
   "execution_count": 69,
   "metadata": {},
   "outputs": [],
   "source": [
    "corpus = Tokenizer(oov_token = oov_tok, num_words = 5000)\n",
    "corpus.fit_on_texts(np.asarray(train['CommentBody_no_punc']))\n",
    "training_seq = corpus.texts_to_sequences(np.asarray(train['CommentBody_no_punc']))"
   ]
  },
  {
   "cell_type": "code",
   "execution_count": 70,
   "metadata": {},
   "outputs": [
    {
     "name": "stdout",
     "output_type": "stream",
     "text": [
      "<class 'list'>\n",
      "[15, 1917, 286, 82, 700, 3, 16, 6, 1033, 249, 162, 1, 365, 3, 1, 770, 34, 1, 383]\n"
     ]
    }
   ],
   "source": [
    "print(type(training_seq))\n",
    "print(training_seq[0])"
   ]
  },
  {
   "cell_type": "code",
   "execution_count": 71,
   "metadata": {},
   "outputs": [],
   "source": [
    "training_padded = pad_sequences(training_seq, truncating = trunc_type, padding = pad_type, maxlen = max_length)"
   ]
  },
  {
   "cell_type": "code",
   "execution_count": 72,
   "metadata": {},
   "outputs": [
    {
     "name": "stdout",
     "output_type": "stream",
     "text": [
      "[  15 1917  286   82  700    3   16    6 1033  249  162    1  365    3\n",
      "    1  770   34    1  383    0]\n"
     ]
    }
   ],
   "source": [
    "print(training_padded[0])"
   ]
  },
  {
   "cell_type": "code",
   "execution_count": 73,
   "metadata": {},
   "outputs": [
    {
     "name": "stdout",
     "output_type": "stream",
     "text": [
      "Index(['approveDate', 'commentBody', 'commentID', 'commentSequence',\n",
      "       'commentTitle', 'commentType', 'createDate', 'depth',\n",
      "       'editorsSelection', 'parentID', 'parentUserDisplayName', 'permID',\n",
      "       'picURL', 'recommendations', 'recommendedFlag', 'replyCount',\n",
      "       'reportAbuseFlag', 'sharing', 'status', 'timespeople', 'trusted',\n",
      "       'updateDate', 'userDisplayName', 'userID', 'userLocation', 'userTitle',\n",
      "       'userURL', 'inReplyTo', 'articleID', 'sectionName', 'newDesk',\n",
      "       'articleWordCount', 'printPage', 'typeOfMaterial', 'CommentBody_lower',\n",
      "       'CommentBody_no_punc'],\n",
      "      dtype='object')\n",
      "0    2.0\n",
      "1    1.0\n",
      "2    3.0\n",
      "3    7.0\n",
      "4    5.0\n",
      "Name: recommendations, dtype: float64 [0.000e+00 1.000e+00 2.000e+00 ... 5.671e+03 6.367e+03 7.938e+03]\n",
      "0    False\n",
      "1    False\n",
      "2    False\n",
      "3    False\n",
      "4    False\n",
      "Name: editorsSelection, dtype: bool\n",
      "243832 5673\n"
     ]
    }
   ],
   "source": [
    "print(train.columns)\n",
    "print(train['recommendations'].head(), np.unique(train['recommendations'])) # according to kaggle instructions\n",
    "print(train['editorsSelection'].head())\n",
    "print(len(train['editorsSelection']) , sum(train['editorsSelection']))"
   ]
  },
  {
   "cell_type": "code",
   "execution_count": 74,
   "metadata": {},
   "outputs": [],
   "source": [
    "from sklearn.model_selection import train_test_split\n"
   ]
  },
  {
   "cell_type": "code",
   "execution_count": 75,
   "metadata": {},
   "outputs": [],
   "source": [
    "x_train, x_test, y_train, y_test = train_test_split(training_padded, np.asarray(train['editorsSelection']), test_size=.2)"
   ]
  },
  {
   "cell_type": "code",
   "execution_count": 79,
   "metadata": {},
   "outputs": [],
   "source": [
    "vocab_size = len(corpus.word_index)"
   ]
  },
  {
   "cell_type": "code",
   "execution_count": 81,
   "metadata": {},
   "outputs": [
    {
     "name": "stdout",
     "output_type": "stream",
     "text": [
      "333344\n"
     ]
    }
   ],
   "source": [
    "print(vocab_size)"
   ]
  },
  {
   "cell_type": "code",
   "execution_count": 86,
   "metadata": {},
   "outputs": [],
   "source": [
    "model = tf.keras.models.Sequential([\n",
    "    tf.keras.layers.Embedding(vocab_size, embedding_dim, input_length = max_length),\n",
    "    tf.keras.layers.Conv1D(125,5, activation = 'relu'),\n",
    "    tf.keras.layers.Bidirectional(tf.keras.layers.LSTM(64, return_sequences= True)),\n",
    "    tf.keras.layers.Bidirectional(tf.keras.layers.LSTM(64)),\n",
    "    tf.keras.layers.Flatten(),\n",
    "    tf.keras.layers.Dense(128, activation ='relu'),\n",
    "    tf.keras.layers.Dropout(.3),\n",
    "    tf.keras.layers.Dense(1, activation ='sigmoid')\n",
    "])"
   ]
  },
  {
   "cell_type": "code",
   "execution_count": 87,
   "metadata": {},
   "outputs": [],
   "source": [
    "lr_schedule = tf.keras.callbacks.LearningRateScheduler(\n",
    "    lambda epoch: 1e-8 * 10**(epoch / 20))\n",
    "optimiz = tf.keras.optimizers.SGD(lr=1e-8, momentum=0.9)\n"
   ]
  },
  {
   "cell_type": "code",
   "execution_count": 88,
   "metadata": {},
   "outputs": [],
   "source": [
    "model.compile(loss='binary_crossentropy', metrics=['accuracy'], optimizer = optimiz)\n"
   ]
  },
  {
   "cell_type": "code",
   "execution_count": 90,
   "metadata": {},
   "outputs": [
    {
     "name": "stdout",
     "output_type": "stream",
     "text": [
      "Train on 195065 samples, validate on 48767 samples\n",
      "Epoch 1/50\n",
      "195065/195065 [==============================] - 937s 5ms/sample - loss: 0.6911 - accuracy: 0.7624 - val_loss: 0.6909 - val_accuracy: 0.9470\n",
      "Epoch 2/50\n",
      "195065/195065 [==============================] - 902s 5ms/sample - loss: 0.6906 - accuracy: 0.8116 - val_loss: 0.6904 - val_accuracy: 0.9661\n",
      "Epoch 3/50\n",
      "195065/195065 [==============================] - 871s 4ms/sample - loss: 0.6901 - accuracy: 0.8538 - val_loss: 0.6898 - val_accuracy: 0.9734\n",
      "Epoch 4/50\n",
      "195065/195065 [==============================] - 944s 5ms/sample - loss: 0.6895 - accuracy: 0.8919 - val_loss: 0.6892 - val_accuracy: 0.9758\n",
      "Epoch 5/50\n",
      "195065/195065 [==============================] - 1040s 5ms/sample - loss: 0.6889 - accuracy: 0.9223 - val_loss: 0.6885 - val_accuracy: 0.9760\n",
      "Epoch 6/50\n",
      "195065/195065 [==============================] - 985s 5ms/sample - loss: 0.6882 - accuracy: 0.9451 - val_loss: 0.6878 - val_accuracy: 0.9760\n",
      "Epoch 7/50\n",
      "195065/195065 [==============================] - 986s 5ms/sample - loss: 0.6873 - accuracy: 0.9610 - val_loss: 0.6869 - val_accuracy: 0.9761\n",
      "Epoch 8/50\n",
      "195065/195065 [==============================] - 1109s 6ms/sample - loss: 0.6865 - accuracy: 0.9694 - val_loss: 0.6860 - val_accuracy: 0.9761\n",
      "Epoch 9/50\n",
      "195065/195065 [==============================] - 1218s 6ms/sample - loss: 0.6855 - accuracy: 0.9739 - val_loss: 0.6850 - val_accuracy: 0.9761\n",
      "Epoch 10/50\n",
      "195065/195065 [==============================] - 882s 5ms/sample - loss: 0.6844 - accuracy: 0.9757 - val_loss: 0.6838 - val_accuracy: 0.9761\n",
      "Epoch 11/50\n",
      "195065/195065 [==============================] - 859s 4ms/sample - loss: 0.6831 - accuracy: 0.9766 - val_loss: 0.6825 - val_accuracy: 0.9761\n",
      "Epoch 12/50\n",
      "195065/195065 [==============================] - 851s 4ms/sample - loss: 0.6818 - accuracy: 0.9768 - val_loss: 0.6811 - val_accuracy: 0.9761\n",
      "Epoch 13/50\n",
      "195065/195065 [==============================] - 849s 4ms/sample - loss: 0.6803 - accuracy: 0.9769 - val_loss: 0.6795 - val_accuracy: 0.9761\n",
      "Epoch 14/50\n",
      "195065/195065 [==============================] - 852s 4ms/sample - loss: 0.6786 - accuracy: 0.9769 - val_loss: 0.6777 - val_accuracy: 0.9761\n",
      "Epoch 15/50\n",
      "195065/195065 [==============================] - 847s 4ms/sample - loss: 0.6768 - accuracy: 0.9769 - val_loss: 0.6758 - val_accuracy: 0.9761\n",
      "Epoch 16/50\n",
      "195065/195065 [==============================] - 849s 4ms/sample - loss: 0.6747 - accuracy: 0.9769 - val_loss: 0.6737 - val_accuracy: 0.9761\n",
      "Epoch 17/50\n",
      "195065/195065 [==============================] - 848s 4ms/sample - loss: 0.6725 - accuracy: 0.9769 - val_loss: 0.6713 - val_accuracy: 0.9761\n",
      "Epoch 18/50\n",
      "195065/195065 [==============================] - 852s 4ms/sample - loss: 0.6700 - accuracy: 0.9769 - val_loss: 0.6687 - val_accuracy: 0.9761\n",
      "Epoch 19/50\n",
      "195065/195065 [==============================] - 851s 4ms/sample - loss: 0.6673 - accuracy: 0.9769 - val_loss: 0.6659 - val_accuracy: 0.9761\n",
      "Epoch 20/50\n",
      "195065/195065 [==============================] - 846s 4ms/sample - loss: 0.6642 - accuracy: 0.9769 - val_loss: 0.6627 - val_accuracy: 0.9761\n",
      "Epoch 21/50\n",
      "195065/195065 [==============================] - 846s 4ms/sample - loss: 0.6609 - accuracy: 0.9769 - val_loss: 0.6592 - val_accuracy: 0.9761\n",
      "Epoch 22/50\n",
      "195065/195065 [==============================] - 850s 4ms/sample - loss: 0.6572 - accuracy: 0.9769 - val_loss: 0.6553 - val_accuracy: 0.9761\n",
      "Epoch 23/50\n",
      "195065/195065 [==============================] - 849s 4ms/sample - loss: 0.6532 - accuracy: 0.9769 - val_loss: 0.6511 - val_accuracy: 0.9761\n",
      "Epoch 24/50\n",
      "195065/195065 [==============================] - 843s 4ms/sample - loss: 0.6487 - accuracy: 0.9769 - val_loss: 0.6464 - val_accuracy: 0.9761\n",
      "Epoch 25/50\n",
      "195065/195065 [==============================] - 845s 4ms/sample - loss: 0.6437 - accuracy: 0.9769 - val_loss: 0.6412 - val_accuracy: 0.9761\n",
      "Epoch 26/50\n",
      "195065/195065 [==============================] - 837s 4ms/sample - loss: 0.6382 - accuracy: 0.9769 - val_loss: 0.6354 - val_accuracy: 0.9761\n",
      "Epoch 27/50\n",
      "195065/195065 [==============================] - 849s 4ms/sample - loss: 0.6322 - accuracy: 0.9769 - val_loss: 0.6291 - val_accuracy: 0.9761\n",
      "Epoch 28/50\n",
      "195065/195065 [==============================] - 847s 4ms/sample - loss: 0.6255 - accuracy: 0.9769 - val_loss: 0.6220 - val_accuracy: 0.9761\n",
      "Epoch 29/50\n",
      "195065/195065 [==============================] - 848s 4ms/sample - loss: 0.6179 - accuracy: 0.9769 - val_loss: 0.6141 - val_accuracy: 0.9761\n",
      "Epoch 30/50\n",
      "195065/195065 [==============================] - 843s 4ms/sample - loss: 0.6095 - accuracy: 0.9769 - val_loss: 0.6051 - val_accuracy: 0.9761\n",
      "Epoch 31/50\n",
      "195065/195065 [==============================] - 847s 4ms/sample - loss: 0.6000 - accuracy: 0.9769 - val_loss: 0.5951 - val_accuracy: 0.9761\n",
      "Epoch 32/50\n",
      "195065/195065 [==============================] - 850s 4ms/sample - loss: 0.5894 - accuracy: 0.9769 - val_loss: 0.5838 - val_accuracy: 0.9761\n",
      "Epoch 33/50\n",
      "195065/195065 [==============================] - 848s 4ms/sample - loss: 0.5775 - accuracy: 0.9769 - val_loss: 0.5714 - val_accuracy: 0.9761\n",
      "Epoch 34/50\n",
      "195065/195065 [==============================] - 848s 4ms/sample - loss: 0.5644 - accuracy: 0.9769 - val_loss: 0.5578 - val_accuracy: 0.9761\n",
      "Epoch 35/50\n",
      "195065/195065 [==============================] - 837s 4ms/sample - loss: 0.5501 - accuracy: 0.9769 - val_loss: 0.5428 - val_accuracy: 0.9761\n",
      "Epoch 36/50\n",
      "195065/195065 [==============================] - 848s 4ms/sample - loss: 0.5344 - accuracy: 0.9769 - val_loss: 0.5264 - val_accuracy: 0.9761\n",
      "Epoch 37/50\n",
      "195065/195065 [==============================] - 844s 4ms/sample - loss: 0.5172 - accuracy: 0.9769 - val_loss: 0.5085 - val_accuracy: 0.9761\n",
      "Epoch 38/50\n",
      "195065/195065 [==============================] - 845s 4ms/sample - loss: 0.4985 - accuracy: 0.9769 - val_loss: 0.4891 - val_accuracy: 0.9761\n",
      "Epoch 39/50\n",
      "195065/195065 [==============================] - 842s 4ms/sample - loss: 0.4784 - accuracy: 0.9769 - val_loss: 0.4683 - val_accuracy: 0.9761\n",
      "Epoch 40/50\n",
      "195065/195065 [==============================] - 852s 4ms/sample - loss: 0.4568 - accuracy: 0.9769 - val_loss: 0.4458 - val_accuracy: 0.9761\n",
      "Epoch 41/50\n",
      "195065/195065 [==============================] - 846s 4ms/sample - loss: 0.4336 - accuracy: 0.9769 - val_loss: 0.4219 - val_accuracy: 0.9761\n",
      "Epoch 42/50\n",
      "195065/195065 [==============================] - 846s 4ms/sample - loss: 0.4089 - accuracy: 0.9769 - val_loss: 0.3965 - val_accuracy: 0.9761\n",
      "Epoch 43/50\n",
      "195065/195065 [==============================] - 838s 4ms/sample - loss: 0.3829 - accuracy: 0.9769 - val_loss: 0.3697 - val_accuracy: 0.9761\n",
      "Epoch 44/50\n",
      "195065/195065 [==============================] - 839s 4ms/sample - loss: 0.3557 - accuracy: 0.9769 - val_loss: 0.3419 - val_accuracy: 0.9761\n",
      "Epoch 45/50\n",
      "195065/195065 [==============================] - 845s 4ms/sample - loss: 0.3273 - accuracy: 0.9769 - val_loss: 0.3133 - val_accuracy: 0.9761\n",
      "Epoch 46/50\n",
      "195065/195065 [==============================] - 847s 4ms/sample - loss: 0.2989 - accuracy: 0.9769 - val_loss: 0.2846 - val_accuracy: 0.9761\n",
      "Epoch 47/50\n",
      "195065/195065 [==============================] - 842s 4ms/sample - loss: 0.2704 - accuracy: 0.9769 - val_loss: 0.2564 - val_accuracy: 0.9761\n",
      "Epoch 48/50\n",
      "195065/195065 [==============================] - 834s 4ms/sample - loss: 0.2428 - accuracy: 0.9769 - val_loss: 0.2295 - val_accuracy: 0.9761\n",
      "Epoch 49/50\n",
      "195065/195065 [==============================] - 842s 4ms/sample - loss: 0.2173 - accuracy: 0.9769 - val_loss: 0.2048 - val_accuracy: 0.9761\n",
      "Epoch 50/50\n",
      "195065/195065 [==============================] - 843s 4ms/sample - loss: 0.1938 - accuracy: 0.9769 - val_loss: 0.1829 - val_accuracy: 0.9761\n"
     ]
    }
   ],
   "source": [
    "history = model.fit(x_train, y_train, callbacks = [lr_schedule], epochs= 50, validation_data = (x_test, y_test), verbose = 1)"
   ]
  },
  {
   "cell_type": "code",
   "execution_count": 92,
   "metadata": {},
   "outputs": [
    {
     "data": {
      "text/plain": [
       "<Figure size 432x288 with 0 Axes>"
      ]
     },
     "execution_count": 92,
     "metadata": {},
     "output_type": "execute_result"
    },
    {
     "data": {
      "image/png": "[encoded data removed]",
      "text/plain": [
       "<Figure size 432x288 with 1 Axes>"
      ]
     },
     "metadata": {
      "needs_background": "light"
     },
     "output_type": "display_data"
    },
    {
     "data": {
      "image/png": "[encoded data removed]",
      "text/plain": [
       "<Figure size 432x288 with 1 Axes>"
      ]
     },
     "metadata": {
      "needs_background": "light"
     },
     "output_type": "display_data"
    },
    {
     "data": {
      "text/plain": [
       "<Figure size 432x288 with 0 Axes>"
      ]
     },
     "metadata": {},
     "output_type": "display_data"
    }
   ],
   "source": [
    "import matplotlib.pyplot as plt\n",
    "\n",
    "#-----------------------------------------------------------\n",
    "# Retrieve a list of list results on training and test data\n",
    "# sets for each training epoch\n",
    "#-----------------------------------------------------------\n",
    "acc=history.history['accuracy']\n",
    "val_acc=history.history['val_accuracy']\n",
    "loss=history.history['loss']\n",
    "val_loss=history.history['val_loss']\n",
    "\n",
    "epochs=range(len(acc)) # Get number of epochs\n",
    "\n",
    "#------------------------------------------------\n",
    "# Plot training and validation accuracy per epoch\n",
    "#------------------------------------------------\n",
    "plt.plot(epochs, acc, 'r')\n",
    "plt.plot(epochs, val_acc, 'b')\n",
    "plt.title('Training and validation accuracy')\n",
    "plt.xlabel(\"Epochs\")\n",
    "plt.ylabel(\"Accuracy\")\n",
    "plt.legend([\"Accuracy\", \"Validation Accuracy\"])\n",
    "\n",
    "plt.figure()\n",
    "\n",
    "#------------------------------------------------\n",
    "# Plot training and validation loss per epoch\n",
    "#------------------------------------------------\n",
    "plt.plot(epochs, loss, 'r')\n",
    "plt.plot(epochs, val_loss, 'b')\n",
    "plt.title('Training and validation loss')\n",
    "plt.xlabel(\"Epochs\")\n",
    "plt.ylabel(\"Loss\")\n",
    "plt.legend([\"Loss\", \"Validation Loss\"])\n",
    "\n",
    "plt.figure()"
   ]
  },
  {
   "cell_type": "code",
   "execution_count": null,
   "metadata": {},
   "outputs": [],
   "source": []
  }
 ],
 "metadata": {
  "kernelspec": {
   "display_name": "Python 3",
   "language": "python",
   "name": "python3"
  },
  "language_info": {
   "codemirror_mode": {
    "name": "ipython",
    "version": 3
   },
   "file_extension": ".py",
   "mimetype": "text/x-python",
   "name": "python",
   "nbconvert_exporter": "python",
   "pygments_lexer": "ipython3",
   "version": "3.7.3"
  }
 },
 "nbformat": 4,
 "nbformat_minor": 2
}

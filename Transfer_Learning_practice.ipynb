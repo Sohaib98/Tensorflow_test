{
  "nbformat": 4,
  "nbformat_minor": 0,
  "metadata": {
    "colab": {
      "name": "“Transfer Learning.ipynb”的副本",
      "version": "0.3.2",
      "provenance": [],
      "collapsed_sections": [],
      "include_colab_link": true
    },
    "kernelspec": {
      "name": "python3",
      "display_name": "Python 3"
    },
    "accelerator": "GPU"
  },
  "cells": [
    {
      "cell_type": "markdown",
      "metadata": {
        "id": "view-in-github",
        "colab_type": "text"
      },
      "source": [
        "<a href=\"https://colab.research.google.com/github/luoChengwen/Tensorflow_test/blob/master/Transfer_Learning_practice.ipynb\" target=\"_parent\"><img src=\"https://colab.research.google.com/assets/colab-badge.svg\" alt=\"Open In Colab\"/></a>"
      ]
    },
    {
      "cell_type": "code",
      "metadata": {
        "colab_type": "code",
        "id": "1xJZ5glPPCRz",
        "colab": {
          "base_uri": "https://localhost:8080/",
          "height": 309
        },
        "outputId": "0bc90e7e-74a0-43f0-8cee-51b01abfedd2"
      },
      "source": [
        "import os\n",
        "\n",
        "from tensorflow.keras import layers\n",
        "from tensorflow.keras import Model\n",
        "!wget --no-check-certificate \\\n",
        "    https://storage.googleapis.com/mledu-datasets/inception_v3_weights_tf_dim_ordering_tf_kernels_notop.h5 \\\n",
        "    -O /tmp/inception_v3_weights_tf_dim_ordering_tf_kernels_notop.h5\n",
        "  \n",
        "from tensorflow.keras.applications.inception_v3 import InceptionV3\n",
        "\n",
        "local_weights_file = '/tmp/inception_v3_weights_tf_dim_ordering_tf_kernels_notop.h5'\n",
        "\n",
        "pre_trained_model = InceptionV3(input_shape = (150, 150, 3), \n",
        "                                include_top = False, \n",
        "                                weights = None)\n",
        "\n",
        "pre_trained_model.load_weights(local_weights_file)\n",
        "\n",
        "for layer in pre_trained_model.layers:\n",
        "  layer.trainable = False\n",
        "  \n",
        "# pre_trained_model.summary()\n",
        "\n",
        "last_layer = pre_trained_model.get_layer('mixed7')\n",
        "print('last layer output shape: ', last_layer.output_shape)\n",
        "last_output = last_layer.output"
      ],
      "execution_count": 1,
      "outputs": [
        {
          "output_type": "stream",
          "text": [
            "--2019-08-08 02:53:42--  https://storage.googleapis.com/mledu-datasets/inception_v3_weights_tf_dim_ordering_tf_kernels_notop.h5\n",
            "Resolving storage.googleapis.com (storage.googleapis.com)... 172.217.214.128, 2607:f8b0:4001:c12::80\n",
            "Connecting to storage.googleapis.com (storage.googleapis.com)|172.217.214.128|:443... connected.\n",
            "HTTP request sent, awaiting response... 200 OK\n",
            "Length: 87910968 (84M) [application/x-hdf]\n",
            "Saving to: ‘/tmp/inception_v3_weights_tf_dim_ordering_tf_kernels_notop.h5’\n",
            "\n",
            "/tmp/inception_v3_w 100%[===================>]  83.84M   225MB/s    in 0.4s    \n",
            "\n",
            "2019-08-08 02:53:42 (225 MB/s) - ‘/tmp/inception_v3_weights_tf_dim_ordering_tf_kernels_notop.h5’ saved [87910968/87910968]\n",
            "\n"
          ],
          "name": "stdout"
        },
        {
          "output_type": "stream",
          "text": [
            "WARNING: Logging before flag parsing goes to stderr.\n",
            "W0808 02:53:43.412874 140705241556864 deprecation.py:506] From /usr/local/lib/python3.6/dist-packages/tensorflow/python/ops/init_ops.py:1251: calling VarianceScaling.__init__ (from tensorflow.python.ops.init_ops) with dtype is deprecated and will be removed in a future version.\n",
            "Instructions for updating:\n",
            "Call initializer instance with the dtype argument instead of passing it to the constructor\n"
          ],
          "name": "stderr"
        },
        {
          "output_type": "stream",
          "text": [
            "last layer output shape:  (None, 7, 7, 768)\n"
          ],
          "name": "stdout"
        }
      ]
    },
    {
      "cell_type": "code",
      "metadata": {
        "id": "X8_rRmbNKXhq",
        "colab_type": "code",
        "colab": {}
      },
      "source": [
        "import tensorflow as tf\n",
        "model2 = tf.keras.models.Sequential()\n",
        "model2.add(pre_trained_model)\n",
        "model2.add(layers.Flatten())\n",
        "model2.add(layers.Dense(1024, activation='relu'))\n",
        "model2.add(layers.Dropout(0.2))\n",
        "model2.add(layers.Dense(1, activation='sigmoid'))\n",
        "model2.compile(optimizer = RMSprop(lr=0.0001), \n",
        "              loss = 'binary_crossentropy', \n",
        "              metrics = ['acc'])\n"
      ],
      "execution_count": 0,
      "outputs": []
    },
    {
      "cell_type": "code",
      "metadata": {
        "colab_type": "code",
        "id": "BMXb913pbvFg",
        "colab": {}
      },
      "source": [
        "from tensorflow.keras.optimizers import RMSprop\n",
        "\n",
        "# Flatten the output layer to 1 dimension\n",
        "x = layers.Flatten()(last_output)\n",
        "# Add a fully connected layer with 1,024 hidden units and ReLU activation\n",
        "x = layers.Dense(1024, activation='relu')(x)\n",
        "# Add a dropout rate of 0.2\n",
        "x = layers.Dropout(0.2)(x)                  \n",
        "# Add a final sigmoid layer for classification\n",
        "x = layers.Dense(1, activation='sigmoid')(x)           \n",
        "\n",
        "model = Model(pre_trained_model.input, x) \n",
        "\n",
        "model.compile(optimizer = RMSprop(lr=0.0001), \n",
        "              loss = 'binary_crossentropy', \n",
        "              metrics = ['acc'])\n",
        "\n",
        "\n"
      ],
      "execution_count": 0,
      "outputs": []
    },
    {
      "cell_type": "code",
      "metadata": {
        "colab_type": "code",
        "id": "O4s8HckqGlnb",
        "outputId": "068f48f9-f2e4-4c7e-e6a7-2ba930f039ff",
        "colab": {
          "base_uri": "https://localhost:8080/",
          "height": 238
        }
      },
      "source": [
        "!wget --no-check-certificate \\\n",
        "        https://storage.googleapis.com/mledu-datasets/cats_and_dogs_filtered.zip \\\n",
        "       -O /tmp/cats_and_dogs_filtered.zip\n",
        "\n",
        "from tensorflow.keras.preprocessing.image import ImageDataGenerator\n",
        "\n",
        "import os\n",
        "import zipfile\n",
        "\n",
        "local_zip = '//tmp/cats_and_dogs_filtered.zip'\n",
        "\n",
        "zip_ref = zipfile.ZipFile(local_zip, 'r')\n",
        "\n",
        "zip_ref.extractall('/tmp')\n",
        "zip_ref.close()\n",
        "\n",
        "# Define our example directories and files\n",
        "base_dir = '/tmp/cats_and_dogs_filtered'\n",
        "\n",
        "train_dir = os.path.join( base_dir, 'train')\n",
        "validation_dir = os.path.join( base_dir, 'validation')\n",
        "\n",
        "\n",
        "train_cats_dir = os.path.join(train_dir, 'cats') # Directory with our training cat pictures\n",
        "train_dogs_dir = os.path.join(train_dir, 'dogs') # Directory with our training dog pictures\n",
        "validation_cats_dir = os.path.join(validation_dir, 'cats') # Directory with our validation cat pictures\n",
        "validation_dogs_dir = os.path.join(validation_dir, 'dogs')# Directory with our validation dog pictures\n",
        "\n",
        "train_cat_fnames = os.listdir(train_cats_dir)\n",
        "train_dog_fnames = os.listdir(train_dogs_dir)\n",
        "\n",
        "# Add our data-augmentation parameters to ImageDataGenerator\n",
        "train_datagen = ImageDataGenerator(rescale = 1./255.,\n",
        "                                   rotation_range = 40,\n",
        "                                   width_shift_range = 0.2,\n",
        "                                   height_shift_range = 0.2,\n",
        "                                   shear_range = 0.2,\n",
        "                                   zoom_range = 0.2,\n",
        "                                   horizontal_flip = True)\n",
        "\n",
        "# Note that the validation data should not be augmented!\n",
        "test_datagen = ImageDataGenerator( rescale = 1.0/255. )\n",
        "\n",
        "# Flow training images in batches of 20 using train_datagen generator\n",
        "train_generator = train_datagen.flow_from_directory(train_dir,\n",
        "                                                    batch_size = 20,\n",
        "                                                    class_mode = 'binary', \n",
        "                                                    target_size = (150, 150))     \n",
        "\n",
        "# Flow validation images in batches of 20 using test_datagen generator\n",
        "validation_generator =  test_datagen.flow_from_directory( validation_dir,\n",
        "                                                          batch_size  = 20,\n",
        "                                                          class_mode  = 'binary', \n",
        "                                                          target_size = (150, 150))"
      ],
      "execution_count": 9,
      "outputs": [
        {
          "output_type": "stream",
          "text": [
            "--2019-08-08 03:14:04--  https://storage.googleapis.com/mledu-datasets/cats_and_dogs_filtered.zip\n",
            "Resolving storage.googleapis.com (storage.googleapis.com)... 172.217.214.128, 2607:f8b0:4001:c10::80\n",
            "Connecting to storage.googleapis.com (storage.googleapis.com)|172.217.214.128|:443... connected.\n",
            "HTTP request sent, awaiting response... 200 OK\n",
            "Length: 68606236 (65M) [application/zip]\n",
            "Saving to: ‘/tmp/cats_and_dogs_filtered.zip’\n",
            "\n",
            "\r          /tmp/cats   0%[                    ]       0  --.-KB/s               \r         /tmp/cats_  85%[================>   ]  56.01M   260MB/s               \r/tmp/cats_and_dogs_ 100%[===================>]  65.43M   267MB/s    in 0.2s    \n",
            "\n",
            "2019-08-08 03:14:05 (267 MB/s) - ‘/tmp/cats_and_dogs_filtered.zip’ saved [68606236/68606236]\n",
            "\n",
            "Found 2000 images belonging to 2 classes.\n",
            "Found 1000 images belonging to 2 classes.\n"
          ],
          "name": "stdout"
        }
      ]
    },
    {
      "cell_type": "code",
      "metadata": {
        "colab_type": "code",
        "id": "Blhq2MAUeyGA",
        "outputId": "418b1f47-8b02-4723-b9f1-87e96ef291fa",
        "colab": {
          "base_uri": "https://localhost:8080/",
          "height": 697
        }
      },
      "source": [
        "history = model.fit_generator(\n",
        "            train_generator,\n",
        "            validation_data = validation_generator,\n",
        "            steps_per_epoch = 100,\n",
        "            epochs = 20,\n",
        "            validation_steps = 50,\n",
        "            verbose = 2)"
      ],
      "execution_count": 10,
      "outputs": [
        {
          "output_type": "stream",
          "text": [
            "Epoch 1/20\n",
            "100/100 - 24s - loss: 0.5044 - acc: 0.7500 - val_loss: 0.1553 - val_acc: 0.9480\n",
            "Epoch 2/20\n",
            "100/100 - 17s - loss: 0.3732 - acc: 0.8340 - val_loss: 0.1973 - val_acc: 0.9520\n",
            "Epoch 3/20\n",
            "100/100 - 18s - loss: 0.3428 - acc: 0.8515 - val_loss: 0.2500 - val_acc: 0.9400\n",
            "Epoch 4/20\n",
            "100/100 - 17s - loss: 0.3223 - acc: 0.8570 - val_loss: 0.6249 - val_acc: 0.9060\n",
            "Epoch 5/20\n",
            "100/100 - 17s - loss: 0.3232 - acc: 0.8645 - val_loss: 0.2734 - val_acc: 0.9480\n",
            "Epoch 6/20\n",
            "100/100 - 17s - loss: 0.3197 - acc: 0.8700 - val_loss: 0.3716 - val_acc: 0.9400\n",
            "Epoch 7/20\n",
            "100/100 - 17s - loss: 0.2915 - acc: 0.8810 - val_loss: 0.3720 - val_acc: 0.9470\n",
            "Epoch 8/20\n",
            "100/100 - 17s - loss: 0.3085 - acc: 0.8700 - val_loss: 0.3150 - val_acc: 0.9550\n",
            "Epoch 9/20\n",
            "100/100 - 17s - loss: 0.2979 - acc: 0.8800 - val_loss: 0.4888 - val_acc: 0.9390\n",
            "Epoch 10/20\n",
            "100/100 - 17s - loss: 0.2817 - acc: 0.8820 - val_loss: 0.3245 - val_acc: 0.9550\n",
            "Epoch 11/20\n",
            "100/100 - 17s - loss: 0.2587 - acc: 0.8950 - val_loss: 0.5575 - val_acc: 0.9380\n",
            "Epoch 12/20\n",
            "100/100 - 18s - loss: 0.2702 - acc: 0.8955 - val_loss: 0.3945 - val_acc: 0.9550\n",
            "Epoch 13/20\n",
            "100/100 - 17s - loss: 0.2700 - acc: 0.8880 - val_loss: 0.6570 - val_acc: 0.9400\n",
            "Epoch 14/20\n",
            "100/100 - 17s - loss: 0.2611 - acc: 0.8955 - val_loss: 0.5429 - val_acc: 0.9450\n",
            "Epoch 15/20\n",
            "100/100 - 17s - loss: 0.2837 - acc: 0.8905 - val_loss: 0.3818 - val_acc: 0.9560\n",
            "Epoch 16/20\n",
            "100/100 - 17s - loss: 0.2248 - acc: 0.9100 - val_loss: 0.5216 - val_acc: 0.9460\n",
            "Epoch 17/20\n",
            "100/100 - 17s - loss: 0.2590 - acc: 0.9045 - val_loss: 0.4358 - val_acc: 0.9560\n",
            "Epoch 18/20\n",
            "100/100 - 18s - loss: 0.2554 - acc: 0.9050 - val_loss: 0.6077 - val_acc: 0.9450\n",
            "Epoch 19/20\n",
            "100/100 - 17s - loss: 0.2587 - acc: 0.8860 - val_loss: 0.5671 - val_acc: 0.9450\n",
            "Epoch 20/20\n",
            "100/100 - 17s - loss: 0.2585 - acc: 0.8950 - val_loss: 0.5488 - val_acc: 0.9490\n"
          ],
          "name": "stdout"
        }
      ]
    },
    {
      "cell_type": "code",
      "metadata": {
        "id": "ZNJ55xJGOGX-",
        "colab_type": "code",
        "colab": {
          "base_uri": "https://localhost:8080/",
          "height": 697
        },
        "outputId": "e6cb1af2-9e70-4a4e-aba2-4f222a546ccb"
      },
      "source": [
        "history2 = model2.fit_generator(\n",
        "            train_generator,\n",
        "            validation_data = validation_generator,\n",
        "            steps_per_epoch = 100,\n",
        "            epochs = 20,\n",
        "            validation_steps = 50,\n",
        "            verbose = 2)"
      ],
      "execution_count": 11,
      "outputs": [
        {
          "output_type": "stream",
          "text": [
            "Epoch 1/20\n",
            "100/100 - 22s - loss: 0.8201 - acc: 0.6460 - val_loss: 0.2718 - val_acc: 0.9300\n",
            "Epoch 2/20\n",
            "100/100 - 18s - loss: 0.5445 - acc: 0.7525 - val_loss: 0.2307 - val_acc: 0.9420\n",
            "Epoch 3/20\n",
            "100/100 - 17s - loss: 0.4782 - acc: 0.7820 - val_loss: 0.2633 - val_acc: 0.9480\n",
            "Epoch 4/20\n",
            "100/100 - 18s - loss: 0.4890 - acc: 0.7855 - val_loss: 0.5074 - val_acc: 0.9260\n",
            "Epoch 5/20\n",
            "100/100 - 18s - loss: 0.4831 - acc: 0.7850 - val_loss: 1.2119 - val_acc: 0.8460\n",
            "Epoch 6/20\n",
            "100/100 - 18s - loss: 0.4703 - acc: 0.7880 - val_loss: 0.3198 - val_acc: 0.9390\n",
            "Epoch 7/20\n",
            "100/100 - 17s - loss: 0.4895 - acc: 0.7805 - val_loss: 0.2660 - val_acc: 0.9520\n",
            "Epoch 8/20\n",
            "100/100 - 18s - loss: 0.4532 - acc: 0.7980 - val_loss: 0.2981 - val_acc: 0.9510\n",
            "Epoch 9/20\n",
            "100/100 - 18s - loss: 0.4546 - acc: 0.7940 - val_loss: 0.4706 - val_acc: 0.9370\n",
            "Epoch 10/20\n",
            "100/100 - 18s - loss: 0.4341 - acc: 0.8105 - val_loss: 0.3481 - val_acc: 0.9480\n",
            "Epoch 11/20\n",
            "100/100 - 18s - loss: 0.4190 - acc: 0.8230 - val_loss: 0.7608 - val_acc: 0.9160\n",
            "Epoch 12/20\n",
            "100/100 - 18s - loss: 0.4031 - acc: 0.8310 - val_loss: 0.4461 - val_acc: 0.9500\n",
            "Epoch 13/20\n",
            "100/100 - 18s - loss: 0.4515 - acc: 0.8075 - val_loss: 0.8233 - val_acc: 0.9180\n",
            "Epoch 14/20\n",
            "100/100 - 17s - loss: 0.4139 - acc: 0.8250 - val_loss: 0.6239 - val_acc: 0.9400\n",
            "Epoch 15/20\n",
            "100/100 - 18s - loss: 0.4540 - acc: 0.8065 - val_loss: 0.8341 - val_acc: 0.9210\n",
            "Epoch 16/20\n",
            "100/100 - 18s - loss: 0.4126 - acc: 0.8195 - val_loss: 0.5720 - val_acc: 0.9280\n",
            "Epoch 17/20\n",
            "100/100 - 17s - loss: 0.4163 - acc: 0.8235 - val_loss: 0.7921 - val_acc: 0.9250\n",
            "Epoch 18/20\n",
            "100/100 - 18s - loss: 0.4270 - acc: 0.8120 - val_loss: 1.1040 - val_acc: 0.9060\n",
            "Epoch 19/20\n",
            "100/100 - 18s - loss: 0.3892 - acc: 0.8315 - val_loss: 0.6123 - val_acc: 0.9410\n",
            "Epoch 20/20\n",
            "100/100 - 18s - loss: 0.4173 - acc: 0.8280 - val_loss: 0.5158 - val_acc: 0.9450\n"
          ],
          "name": "stdout"
        }
      ]
    },
    {
      "cell_type": "code",
      "metadata": {
        "id": "C2Fp6Se9rKuL",
        "colab_type": "code",
        "outputId": "b35026c6-783f-45dd-ca20-a5487be38bdb",
        "colab": {
          "base_uri": "https://localhost:8080/",
          "height": 298
        }
      },
      "source": [
        "import matplotlib.pyplot as plt\n",
        "acc = history.history['acc']\n",
        "val_acc = history.history['val_acc']\n",
        "loss = history.history['loss']\n",
        "val_loss = history.history['val_loss']\n",
        "\n",
        "epochs = range(len(acc))\n",
        "\n",
        "plt.plot(epochs, acc, 'r', label='Training accuracy')\n",
        "plt.plot(epochs, val_acc, 'b', label='Validation accuracy')\n",
        "plt.title('Training and validation accuracy')\n",
        "plt.legend(loc=0)\n",
        "plt.figure()\n",
        "\n",
        "\n",
        "plt.show()"
      ],
      "execution_count": 12,
      "outputs": [
        {
          "output_type": "display_data",
          "data": {
            "image/png": "[encoded data removed]",
            "text/plain": [
              "<Figure size 432x288 with 1 Axes>"
            ]
          },
          "metadata": {
            "tags": []
          }
        },
        {
          "output_type": "display_data",
          "data": {
            "text/plain": [
              "<Figure size 432x288 with 0 Axes>"
            ]
          },
          "metadata": {
            "tags": []
          }
        }
      ]
    },
    {
      "cell_type": "code",
      "metadata": {
        "id": "z_IWHMcVP100",
        "colab_type": "code",
        "colab": {
          "base_uri": "https://localhost:8080/",
          "height": 298
        },
        "outputId": "6fedee04-1d19-4c73-bbe4-d5133bedc2bd"
      },
      "source": [
        "\n",
        "acc = history2.history['acc']\n",
        "val_acc = history2.history['val_acc']\n",
        "loss = history2.history['loss']\n",
        "val_loss = history2.history['val_loss']\n",
        "\n",
        "epochs = range(len(acc))\n",
        "\n",
        "plt.plot(epochs, acc, 'r', label='Training accuracy')\n",
        "plt.plot(epochs, val_acc, 'b', label='Validation accuracy')\n",
        "plt.title('Training and validation accuracy')\n",
        "plt.legend(loc=0)\n",
        "plt.figure()\n",
        "\n",
        "\n",
        "plt.show()"
      ],
      "execution_count": 13,
      "outputs": [
        {
          "output_type": "display_data",
          "data": {
            "image/png": "[encoded data removed]",
            "text/plain": [
              "<Figure size 432x288 with 1 Axes>"
            ]
          },
          "metadata": {
            "tags": []
          }
        },
        {
          "output_type": "display_data",
          "data": {
            "text/plain": [
              "<Figure size 432x288 with 0 Axes>"
            ]
          },
          "metadata": {
            "tags": []
          }
        }
      ]
    }
  ]
}
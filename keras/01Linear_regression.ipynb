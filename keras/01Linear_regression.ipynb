{
 "cells": [
  {
   "cell_type": "code",
   "execution_count": 1,
   "metadata": {},
   "outputs": [],
   "source": [
    "from tensorflow import keras\n",
    "import tensorflow as tf\n",
    "from tensorflow.keras.models import Sequential\n",
    "from tensorflow.keras.layers import Dense\n",
    "import numpy as np\n",
    "import matplotlib.pyplot as plt"
   ]
  },
  {
   "cell_type": "code",
   "execution_count": 2,
   "metadata": {},
   "outputs": [],
   "source": [
    "x = np.linspace(-1,1,100)\n",
    "y = x * 4 + np.random.randn(*x.shape)*.3 "
   ]
  },
  {
   "cell_type": "code",
   "execution_count": 3,
   "metadata": {},
   "outputs": [
    {
     "data": {
      "text/plain": [
       "[<matplotlib.lines.Line2D at 0xb2b37e6a0>]"
      ]
     },
     "execution_count": 3,
     "metadata": {},
     "output_type": "execute_result"
    },
    {
     "data": {
      "image/png": "[encoded data removed]",
      "text/plain": [
       "<Figure size 432x288 with 1 Axes>"
      ]
     },
     "metadata": {
      "needs_background": "light"
     },
     "output_type": "display_data"
    }
   ],
   "source": [
    "plt.figure()\n",
    "plt.plot(x,y)"
   ]
  },
  {
   "cell_type": "code",
   "execution_count": 4,
   "metadata": {},
   "outputs": [],
   "source": [
    "model = Sequential()\n",
    "model.add(Dense(12,input_dim=1, activation='relu'))\n",
    "model.add(Dense(1, activation='linear'))\n",
    "model.compile(optimizer = tf.train.AdamOptimizer(.005), loss='mse')"
   ]
  },
  {
   "cell_type": "code",
   "execution_count": 5,
   "metadata": {},
   "outputs": [
    {
     "name": "stdout",
     "output_type": "stream",
     "text": [
      "Epoch 1/50\n",
      "100/100 [==============================] - 1s 8ms/step - loss: 6.4453\n",
      "Epoch 2/50\n",
      "100/100 [==============================] - 0s 216us/step - loss: 6.1009\n",
      "Epoch 3/50\n",
      "100/100 [==============================] - 0s 159us/step - loss: 5.8062\n",
      "Epoch 4/50\n",
      "100/100 [==============================] - 0s 259us/step - loss: 5.5544\n",
      "Epoch 5/50\n",
      "100/100 [==============================] - 0s 394us/step - loss: 5.3266\n",
      "Epoch 6/50\n",
      "100/100 [==============================] - 0s 104us/step - loss: 5.0919\n",
      "Epoch 7/50\n",
      "100/100 [==============================] - 0s 342us/step - loss: 4.8682\n",
      "Epoch 8/50\n",
      "100/100 [==============================] - 0s 212us/step - loss: 4.6509\n",
      "Epoch 9/50\n",
      "100/100 [==============================] - 0s 159us/step - loss: 4.4366\n",
      "Epoch 10/50\n",
      "100/100 [==============================] - 0s 80us/step - loss: 4.2121\n",
      "Epoch 11/50\n",
      "100/100 [==============================] - 0s 99us/step - loss: 3.9997\n",
      "Epoch 12/50\n",
      "100/100 [==============================] - 0s 85us/step - loss: 3.7844\n",
      "Epoch 13/50\n",
      "100/100 [==============================] - 0s 295us/step - loss: 3.5597\n",
      "Epoch 14/50\n",
      "100/100 [==============================] - 0s 119us/step - loss: 3.3406\n",
      "Epoch 15/50\n",
      "100/100 [==============================] - 0s 72us/step - loss: 3.1026\n",
      "Epoch 16/50\n",
      "100/100 [==============================] - 0s 88us/step - loss: 2.8756\n",
      "Epoch 17/50\n",
      "100/100 [==============================] - 0s 209us/step - loss: 2.6321\n",
      "Epoch 18/50\n",
      "100/100 [==============================] - 0s 197us/step - loss: 2.4098\n",
      "Epoch 19/50\n",
      "100/100 [==============================] - 0s 262us/step - loss: 2.1857\n",
      "Epoch 20/50\n",
      "100/100 [==============================] - 0s 103us/step - loss: 1.9538\n",
      "Epoch 21/50\n",
      "100/100 [==============================] - 0s 217us/step - loss: 1.7505\n",
      "Epoch 22/50\n",
      "100/100 [==============================] - 0s 133us/step - loss: 1.5397\n",
      "Epoch 23/50\n",
      "100/100 [==============================] - 0s 90us/step - loss: 1.3505\n",
      "Epoch 24/50\n",
      "100/100 [==============================] - 0s 185us/step - loss: 1.1689\n",
      "Epoch 25/50\n",
      "100/100 [==============================] - 0s 214us/step - loss: 1.0025\n",
      "Epoch 26/50\n",
      "100/100 [==============================] - 0s 236us/step - loss: 0.8504\n",
      "Epoch 27/50\n",
      "100/100 [==============================] - 0s 131us/step - loss: 0.7198\n",
      "Epoch 28/50\n",
      "100/100 [==============================] - 0s 107us/step - loss: 0.5980\n",
      "Epoch 29/50\n",
      "100/100 [==============================] - 0s 85us/step - loss: 0.5044\n",
      "Epoch 30/50\n",
      "100/100 [==============================] - 0s 97us/step - loss: 0.4181\n",
      "Epoch 31/50\n",
      "100/100 [==============================] - 0s 103us/step - loss: 0.3469\n",
      "Epoch 32/50\n",
      "100/100 [==============================] - 0s 90us/step - loss: 0.2927\n",
      "Epoch 33/50\n",
      "100/100 [==============================] - 0s 95us/step - loss: 0.2429\n",
      "Epoch 34/50\n",
      "100/100 [==============================] - 0s 74us/step - loss: 0.2071\n",
      "Epoch 35/50\n",
      "100/100 [==============================] - 0s 74us/step - loss: 0.1814\n",
      "Epoch 36/50\n",
      "100/100 [==============================] - 0s 79us/step - loss: 0.1612\n",
      "Epoch 37/50\n",
      "100/100 [==============================] - 0s 80us/step - loss: 0.1487\n",
      "Epoch 38/50\n",
      "100/100 [==============================] - 0s 91us/step - loss: 0.1400\n",
      "Epoch 39/50\n",
      "100/100 [==============================] - 0s 109us/step - loss: 0.1326\n",
      "Epoch 40/50\n",
      "100/100 [==============================] - 0s 103us/step - loss: 0.1289\n",
      "Epoch 41/50\n",
      "100/100 [==============================] - 0s 187us/step - loss: 0.1266\n",
      "Epoch 42/50\n",
      "100/100 [==============================] - 0s 152us/step - loss: 0.1252\n",
      "Epoch 43/50\n",
      "100/100 [==============================] - 0s 83us/step - loss: 0.1240\n",
      "Epoch 44/50\n",
      "100/100 [==============================] - 0s 133us/step - loss: 0.1234\n",
      "Epoch 45/50\n",
      "100/100 [==============================] - 0s 108us/step - loss: 0.1228\n",
      "Epoch 46/50\n",
      "100/100 [==============================] - 0s 146us/step - loss: 0.1221\n",
      "Epoch 47/50\n",
      "100/100 [==============================] - 0s 265us/step - loss: 0.1216\n",
      "Epoch 48/50\n",
      "100/100 [==============================] - 0s 262us/step - loss: 0.1212\n",
      "Epoch 49/50\n",
      "100/100 [==============================] - 0s 179us/step - loss: 0.1206\n",
      "Epoch 50/50\n",
      "100/100 [==============================] - 0s 196us/step - loss: 0.1200\n"
     ]
    },
    {
     "data": {
      "text/plain": [
       "<tensorflow.python.keras.callbacks.History at 0xb2b3ad8d0>"
      ]
     },
     "execution_count": 5,
     "metadata": {},
     "output_type": "execute_result"
    }
   ],
   "source": [
    "model.fit(x,y, epochs=50, batch_size=30)"
   ]
  },
  {
   "cell_type": "code",
   "execution_count": 7,
   "metadata": {},
   "outputs": [
    {
     "name": "stdout",
     "output_type": "stream",
     "text": [
      "_________________________________________________________________\n",
      "Layer (type)                 Output Shape              Param #   \n",
      "=================================================================\n",
      "dense (Dense)                (None, 12)                24        \n",
      "_________________________________________________________________\n",
      "dense_1 (Dense)              (None, 1)                 13        \n",
      "=================================================================\n",
      "Total params: 37\n",
      "Trainable params: 37\n",
      "Non-trainable params: 0\n",
      "_________________________________________________________________\n"
     ]
    }
   ],
   "source": [
    "model.summary()"
   ]
  },
  {
   "cell_type": "code",
   "execution_count": 8,
   "metadata": {
    "scrolled": true
   },
   "outputs": [
    {
     "data": {
      "text/plain": [
       "<matplotlib.legend.Legend at 0xb2fe17860>"
      ]
     },
     "execution_count": 8,
     "metadata": {},
     "output_type": "execute_result"
    },
    {
     "data": {
      "image/png": "[encoded data removed]",
      "text/plain": [
       "<Figure size 432x288 with 1 Axes>"
      ]
     },
     "metadata": {
      "needs_background": "light"
     },
     "output_type": "display_data"
    }
   ],
   "source": [
    "plt.figure()\n",
    "plt.plot(x,model.predict(x),label='predict')\n",
    "plt.plot(x,y,label='original')\n",
    "plt.legend()"
   ]
  },
  {
   "cell_type": "code",
   "execution_count": 9,
   "metadata": {
    "scrolled": true
   },
   "outputs": [
    {
     "data": {
      "text/plain": [
       "[array([[-5.5139801e-03, -8.8561618e-01, -2.9823419e-01, -1.4702038e-01,\n",
       "          3.6291083e-04,  8.1065100e-01, -1.0205164e+00,  2.2231276e-01,\n",
       "          1.4013295e+00,  2.4933316e-02, -1.5313207e-01, -7.0012814e-01]],\n",
       "       dtype=float32),\n",
       " array([-0.08315159,  0.594152  , -0.29671654, -0.20019872, -0.08124056,\n",
       "         0.61627054,  0.6227596 , -0.24831872,  0.7389801 , -0.04239109,\n",
       "        -0.19615561,  0.49109393], dtype=float32)]"
      ]
     },
     "execution_count": 9,
     "metadata": {},
     "output_type": "execute_result"
    }
   ],
   "source": [
    "model.layers[0].get_weights()"
   ]
  },
  {
   "cell_type": "code",
   "execution_count": null,
   "metadata": {},
   "outputs": [],
   "source": []
  },
  {
   "cell_type": "code",
   "execution_count": null,
   "metadata": {},
   "outputs": [],
   "source": []
  }
 ],
 "metadata": {
  "kernelspec": {
   "display_name": "VPython",
   "language": "python",
   "name": "vpython"
  },
  "language_info": {
   "codemirror_mode": {
    "name": "ipython",
    "version": 3
   },
   "file_extension": ".py",
   "mimetype": "text/x-python",
   "name": "python",
   "nbconvert_exporter": "python",
   "pygments_lexer": "ipython3",
   "version": "3.6.8"
  }
 },
 "nbformat": 4,
 "nbformat_minor": 2
}

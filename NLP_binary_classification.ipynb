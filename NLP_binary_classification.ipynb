{
  "nbformat": 4,
  "nbformat_minor": 0,
  "metadata": {
    "colab": {
      "name": "“Course 3 - Week 3 - Lesson 2.ipynb”的副本",
      "version": "0.3.2",
      "provenance": [],
      "collapsed_sections": [],
      "include_colab_link": true
    },
    "kernelspec": {
      "name": "python3",
      "display_name": "Python 3"
    },
    "accelerator": "GPU"
  },
  "cells": [
    {
      "cell_type": "markdown",
      "metadata": {
        "id": "view-in-github",
        "colab_type": "text"
      },
      "source": [
        "<a href=\"https://colab.research.google.com/github/luoChengwen/Tensorflow_test/blob/master/NLP_binary_classification.ipynb\" target=\"_parent\"><img src=\"https://colab.research.google.com/assets/colab-badge.svg\" alt=\"Open In Colab\"/></a>"
      ]
    },
    {
      "cell_type": "code",
      "metadata": {
        "id": "jGwXGIXvFhXW",
        "colab_type": "code",
        "outputId": "d529cb09-06c8-44e2-98dc-dc3ce94d2e42",
        "colab": {
          "base_uri": "https://localhost:8080/",
          "height": 1000
        }
      },
      "source": [
        "import json\n",
        "import tensorflow as tf\n",
        "\n",
        "from tensorflow.keras.preprocessing.text import Tokenizer\n",
        "from tensorflow.keras.preprocessing.sequence import pad_sequences\n",
        "\n",
        "!wget --no-check-certificate \\\n",
        "    https://storage.googleapis.com/laurencemoroney-blog.appspot.com/sarcasm.json \\\n",
        "    -O /tmp/sarcasm.json\n",
        "\n",
        "vocab_size = 1000\n",
        "embedding_dim = 16\n",
        "max_length = 120\n",
        "trunc_type='post'\n",
        "padding_type='post'\n",
        "oov_tok = \"<OOV>\"\n",
        "training_size = 20000\n",
        "\n",
        "\n",
        "with open(\"/tmp/sarcasm.json\", 'r') as f:\n",
        "    datastore = json.load(f)\n",
        "\n",
        "\n",
        "sentences = []\n",
        "labels = []\n",
        "urls = []\n",
        "for item in datastore:\n",
        "    sentences.append(item['headline'])\n",
        "    labels.append(item['is_sarcastic'])\n",
        "\n",
        "training_sentences = sentences[0:training_size]\n",
        "testing_sentences = sentences[training_size:]\n",
        "training_labels = labels[0:training_size]\n",
        "testing_labels = labels[training_size:]\n",
        "\n",
        "tokenizer = Tokenizer(num_words=vocab_size, oov_token=oov_tok)\n",
        "tokenizer.fit_on_texts(training_sentences)\n",
        "\n",
        "word_index = tokenizer.word_index\n",
        "\n",
        "training_sequences = tokenizer.texts_to_sequences(training_sentences)\n",
        "training_padded = pad_sequences(training_sequences, maxlen=max_length, padding=padding_type, truncating=trunc_type)\n",
        "\n",
        "testing_sequences = tokenizer.texts_to_sequences(testing_sentences)\n",
        "testing_padded = pad_sequences(testing_sequences, maxlen=max_length, padding=padding_type, truncating=trunc_type)\n",
        "\n",
        "model = tf.keras.Sequential([\n",
        "    tf.keras.layers.Embedding(vocab_size, embedding_dim, input_length=max_length),\n",
        "    tf.keras.layers.Bidirectional(tf.keras.layers.LSTM(32)),\n",
        "    tf.keras.layers.Dense(24, activation='relu'),\n",
        "    tf.keras.layers.Dense(1, activation='sigmoid')\n",
        "])\n",
        "model.compile(loss='binary_crossentropy',optimizer='adam',metrics=['accuracy'])\n",
        "model.summary()\n",
        "\n",
        "num_epochs = 50\n",
        "history = model.fit(training_padded, training_labels, epochs=num_epochs, validation_data=(testing_padded, testing_labels), verbose=1)\n",
        "\n"
      ],
      "execution_count": 0,
      "outputs": [
        {
          "output_type": "stream",
          "text": [
            "--2019-08-14 02:44:04--  https://storage.googleapis.com/laurencemoroney-blog.appspot.com/sarcasm.json\n",
            "Resolving storage.googleapis.com (storage.googleapis.com)... 64.233.188.128, 2404:6800:4008:c01::80\n",
            "Connecting to storage.googleapis.com (storage.googleapis.com)|64.233.188.128|:443... connected.\n",
            "HTTP request sent, awaiting response... 200 OK\n",
            "Length: 5643545 (5.4M) [application/json]\n",
            "Saving to: ‘/tmp/sarcasm.json’\n",
            "\n",
            "/tmp/sarcasm.json   100%[===================>]   5.38M  16.4MB/s    in 0.3s    \n",
            "\n",
            "2019-08-14 02:44:05 (16.4 MB/s) - ‘/tmp/sarcasm.json’ saved [5643545/5643545]\n",
            "\n"
          ],
          "name": "stdout"
        },
        {
          "output_type": "stream",
          "text": [
            "WARNING: Logging before flag parsing goes to stderr.\n",
            "W0814 02:44:07.752117 139730815866752 deprecation.py:506] From /usr/local/lib/python3.6/dist-packages/tensorflow/python/keras/initializers.py:119: calling RandomUniform.__init__ (from tensorflow.python.ops.init_ops) with dtype is deprecated and will be removed in a future version.\n",
            "Instructions for updating:\n",
            "Call initializer instance with the dtype argument instead of passing it to the constructor\n",
            "W0814 02:44:07.756874 139730815866752 deprecation.py:506] From /usr/local/lib/python3.6/dist-packages/tensorflow/python/ops/init_ops.py:1251: calling VarianceScaling.__init__ (from tensorflow.python.ops.init_ops) with dtype is deprecated and will be removed in a future version.\n",
            "Instructions for updating:\n",
            "Call initializer instance with the dtype argument instead of passing it to the constructor\n",
            "W0814 02:44:07.771258 139730815866752 deprecation.py:506] From /usr/local/lib/python3.6/dist-packages/tensorflow/python/ops/init_ops.py:97: calling GlorotUniform.__init__ (from tensorflow.python.ops.init_ops) with dtype is deprecated and will be removed in a future version.\n",
            "Instructions for updating:\n",
            "Call initializer instance with the dtype argument instead of passing it to the constructor\n",
            "W0814 02:44:07.779391 139730815866752 deprecation.py:506] From /usr/local/lib/python3.6/dist-packages/tensorflow/python/ops/init_ops.py:97: calling Orthogonal.__init__ (from tensorflow.python.ops.init_ops) with dtype is deprecated and will be removed in a future version.\n",
            "Instructions for updating:\n",
            "Call initializer instance with the dtype argument instead of passing it to the constructor\n",
            "W0814 02:44:07.783952 139730815866752 deprecation.py:506] From /usr/local/lib/python3.6/dist-packages/tensorflow/python/ops/init_ops.py:97: calling Zeros.__init__ (from tensorflow.python.ops.init_ops) with dtype is deprecated and will be removed in a future version.\n",
            "Instructions for updating:\n",
            "Call initializer instance with the dtype argument instead of passing it to the constructor\n",
            "W0814 02:44:08.373541 139730815866752 deprecation.py:323] From /usr/local/lib/python3.6/dist-packages/tensorflow/python/ops/nn_impl.py:180: add_dispatch_support.<locals>.wrapper (from tensorflow.python.ops.array_ops) is deprecated and will be removed in a future version.\n",
            "Instructions for updating:\n",
            "Use tf.where in 2.0, which has the same broadcast rule as np.where\n"
          ],
          "name": "stderr"
        },
        {
          "output_type": "stream",
          "text": [
            "Model: \"sequential\"\n",
            "_________________________________________________________________\n",
            "Layer (type)                 Output Shape              Param #   \n",
            "=================================================================\n",
            "embedding (Embedding)        (None, 120, 16)           16000     \n",
            "_________________________________________________________________\n",
            "bidirectional (Bidirectional (None, 64)                12544     \n",
            "_________________________________________________________________\n",
            "dense (Dense)                (None, 24)                1560      \n",
            "_________________________________________________________________\n",
            "dense_1 (Dense)              (None, 1)                 25        \n",
            "=================================================================\n",
            "Total params: 30,129\n",
            "Trainable params: 30,129\n",
            "Non-trainable params: 0\n",
            "_________________________________________________________________\n",
            "Train on 20000 samples, validate on 6709 samples\n",
            "Epoch 1/50\n",
            "20000/20000 [==============================] - 380s 19ms/sample - loss: 0.4552 - acc: 0.7712 - val_loss: 0.3991 - val_acc: 0.8161\n",
            "Epoch 2/50\n",
            "20000/20000 [==============================] - 379s 19ms/sample - loss: 0.3646 - acc: 0.8324 - val_loss: 0.3935 - val_acc: 0.8208\n",
            "Epoch 3/50\n",
            "20000/20000 [==============================] - 380s 19ms/sample - loss: 0.3518 - acc: 0.8384 - val_loss: 0.3852 - val_acc: 0.8258\n",
            "Epoch 4/50\n",
            "20000/20000 [==============================] - 379s 19ms/sample - loss: 0.3401 - acc: 0.8462 - val_loss: 0.3942 - val_acc: 0.8177\n",
            "Epoch 5/50\n",
            "20000/20000 [==============================] - 379s 19ms/sample - loss: 0.3252 - acc: 0.8533 - val_loss: 0.3710 - val_acc: 0.8344\n",
            "Epoch 6/50\n",
            "20000/20000 [==============================] - 379s 19ms/sample - loss: 0.3115 - acc: 0.8628 - val_loss: 0.3702 - val_acc: 0.8387\n",
            "Epoch 7/50\n",
            "20000/20000 [==============================] - 380s 19ms/sample - loss: 0.2997 - acc: 0.8663 - val_loss: 0.3810 - val_acc: 0.8267\n",
            "Epoch 8/50\n",
            "20000/20000 [==============================] - 380s 19ms/sample - loss: 0.2907 - acc: 0.8716 - val_loss: 0.3905 - val_acc: 0.8290\n",
            "Epoch 9/50\n",
            "20000/20000 [==============================] - 375s 19ms/sample - loss: 0.2813 - acc: 0.8760 - val_loss: 0.3867 - val_acc: 0.8320\n",
            "Epoch 10/50\n",
            "20000/20000 [==============================] - 374s 19ms/sample - loss: 0.2738 - acc: 0.8796 - val_loss: 0.3989 - val_acc: 0.8284\n",
            "Epoch 11/50\n",
            "20000/20000 [==============================] - 375s 19ms/sample - loss: 0.2676 - acc: 0.8827 - val_loss: 0.4005 - val_acc: 0.8310\n",
            "Epoch 12/50\n",
            "20000/20000 [==============================] - 374s 19ms/sample - loss: 0.2619 - acc: 0.8849 - val_loss: 0.4116 - val_acc: 0.8264\n",
            "Epoch 13/50\n",
            "20000/20000 [==============================] - 374s 19ms/sample - loss: 0.2544 - acc: 0.8892 - val_loss: 0.4086 - val_acc: 0.8261\n",
            "Epoch 14/50\n",
            "20000/20000 [==============================] - 374s 19ms/sample - loss: 0.2474 - acc: 0.8931 - val_loss: 0.4133 - val_acc: 0.8243\n",
            "Epoch 15/50\n",
            "20000/20000 [==============================] - 375s 19ms/sample - loss: 0.2419 - acc: 0.8961 - val_loss: 0.4265 - val_acc: 0.8241\n",
            "Epoch 16/50\n",
            "20000/20000 [==============================] - 375s 19ms/sample - loss: 0.2357 - acc: 0.8990 - val_loss: 0.4420 - val_acc: 0.8211\n",
            "Epoch 17/50\n",
            "20000/20000 [==============================] - 374s 19ms/sample - loss: 0.2277 - acc: 0.9021 - val_loss: 0.4684 - val_acc: 0.8195\n",
            "Epoch 18/50\n",
            "20000/20000 [==============================] - 374s 19ms/sample - loss: 0.2198 - acc: 0.9057 - val_loss: 0.4481 - val_acc: 0.8186\n",
            "Epoch 19/50\n",
            "20000/20000 [==============================] - 375s 19ms/sample - loss: 0.2122 - acc: 0.9107 - val_loss: 0.4933 - val_acc: 0.8179\n",
            "Epoch 20/50\n",
            "20000/20000 [==============================] - 374s 19ms/sample - loss: 0.2045 - acc: 0.9123 - val_loss: 0.4891 - val_acc: 0.8179\n",
            "Epoch 21/50\n",
            "20000/20000 [==============================] - 372s 19ms/sample - loss: 0.2000 - acc: 0.9146 - val_loss: 0.5424 - val_acc: 0.8173\n",
            "Epoch 22/50\n",
            "20000/20000 [==============================] - 373s 19ms/sample - loss: 0.1918 - acc: 0.9204 - val_loss: 0.5433 - val_acc: 0.8138\n",
            "Epoch 23/50\n",
            "20000/20000 [==============================] - 375s 19ms/sample - loss: 0.1852 - acc: 0.9223 - val_loss: 0.5857 - val_acc: 0.8100\n",
            "Epoch 24/50\n",
            "20000/20000 [==============================] - 374s 19ms/sample - loss: 0.1793 - acc: 0.9244 - val_loss: 0.5734 - val_acc: 0.8137\n",
            "Epoch 25/50\n",
            "20000/20000 [==============================] - 376s 19ms/sample - loss: 0.1734 - acc: 0.9275 - val_loss: 0.6238 - val_acc: 0.8141\n",
            "Epoch 26/50\n",
            "20000/20000 [==============================] - 375s 19ms/sample - loss: 0.1646 - acc: 0.9323 - val_loss: 0.6710 - val_acc: 0.8120\n",
            "Epoch 27/50\n",
            "20000/20000 [==============================] - 376s 19ms/sample - loss: 0.1610 - acc: 0.9327 - val_loss: 0.6724 - val_acc: 0.8106\n",
            "Epoch 28/50\n",
            "20000/20000 [==============================] - 374s 19ms/sample - loss: 0.1567 - acc: 0.9356 - val_loss: 0.6759 - val_acc: 0.8059\n",
            "Epoch 29/50\n",
            "20000/20000 [==============================] - 374s 19ms/sample - loss: 0.1482 - acc: 0.9398 - val_loss: 0.7491 - val_acc: 0.8038\n",
            "Epoch 30/50\n",
            "20000/20000 [==============================] - 374s 19ms/sample - loss: 0.1437 - acc: 0.9412 - val_loss: 0.7054 - val_acc: 0.8046\n",
            "Epoch 31/50\n",
            "20000/20000 [==============================] - 374s 19ms/sample - loss: 0.1363 - acc: 0.9445 - val_loss: 0.7859 - val_acc: 0.8035\n",
            "Epoch 32/50\n",
            "20000/20000 [==============================] - 375s 19ms/sample - loss: 0.1306 - acc: 0.9467 - val_loss: 0.8454 - val_acc: 0.8059\n",
            "Epoch 33/50\n",
            "20000/20000 [==============================] - 382s 19ms/sample - loss: 0.1237 - acc: 0.9506 - val_loss: 0.9113 - val_acc: 0.8013\n",
            "Epoch 34/50\n",
            "20000/20000 [==============================] - 382s 19ms/sample - loss: 0.1170 - acc: 0.9519 - val_loss: 0.9208 - val_acc: 0.8044\n",
            "Epoch 35/50\n",
            "20000/20000 [==============================] - 379s 19ms/sample - loss: 0.1150 - acc: 0.9531 - val_loss: 1.0897 - val_acc: 0.7980\n",
            "Epoch 36/50\n",
            "20000/20000 [==============================] - 380s 19ms/sample - loss: 0.1109 - acc: 0.9556 - val_loss: 1.0933 - val_acc: 0.8062\n",
            "Epoch 37/50\n",
            "20000/20000 [==============================] - 382s 19ms/sample - loss: 0.1050 - acc: 0.9571 - val_loss: 1.1705 - val_acc: 0.7970\n",
            "Epoch 38/50\n",
            "20000/20000 [==============================] - 379s 19ms/sample - loss: 0.1015 - acc: 0.9583 - val_loss: 1.1884 - val_acc: 0.8015\n",
            "Epoch 39/50\n",
            "20000/20000 [==============================] - 376s 19ms/sample - loss: 0.0994 - acc: 0.9611 - val_loss: 1.1721 - val_acc: 0.8027\n",
            "Epoch 40/50\n",
            "20000/20000 [==============================] - 376s 19ms/sample - loss: 0.0916 - acc: 0.9632 - val_loss: 1.2497 - val_acc: 0.7995\n",
            "Epoch 41/50\n",
            "20000/20000 [==============================] - 401s 20ms/sample - loss: 0.0889 - acc: 0.9650 - val_loss: 1.2480 - val_acc: 0.7933\n",
            "Epoch 42/50\n",
            "20000/20000 [==============================] - 377s 19ms/sample - loss: 0.0862 - acc: 0.9653 - val_loss: 1.3067 - val_acc: 0.8032\n",
            "Epoch 43/50\n",
            "20000/20000 [==============================] - 384s 19ms/sample - loss: 0.0826 - acc: 0.9674 - val_loss: 1.3568 - val_acc: 0.8010\n",
            "Epoch 44/50\n",
            "20000/20000 [==============================] - 384s 19ms/sample - loss: 0.0821 - acc: 0.9664 - val_loss: 1.4164 - val_acc: 0.8040\n",
            "Epoch 45/50\n",
            "20000/20000 [==============================] - 395s 20ms/sample - loss: 0.0761 - acc: 0.9683 - val_loss: 1.5460 - val_acc: 0.7915\n",
            "Epoch 46/50\n",
            "20000/20000 [==============================] - 391s 20ms/sample - loss: 0.0800 - acc: 0.9686 - val_loss: 1.5050 - val_acc: 0.8006\n",
            "Epoch 47/50\n",
            "20000/20000 [==============================] - 384s 19ms/sample - loss: 0.0687 - acc: 0.9714 - val_loss: 1.5848 - val_acc: 0.8027\n",
            "Epoch 48/50\n",
            "20000/20000 [==============================] - 385s 19ms/sample - loss: 0.0711 - acc: 0.9709 - val_loss: 1.5195 - val_acc: 0.7931\n",
            "Epoch 49/50\n",
            "20000/20000 [==============================] - 386s 19ms/sample - loss: 0.0689 - acc: 0.9718 - val_loss: 1.5757 - val_acc: 0.8015\n",
            "Epoch 50/50\n",
            "20000/20000 [==============================] - 385s 19ms/sample - loss: 0.0652 - acc: 0.9732 - val_loss: 1.5676 - val_acc: 0.8028\n"
          ],
          "name": "stdout"
        }
      ]
    },
    {
      "cell_type": "code",
      "metadata": {
        "id": "g9DC6dmLF8DC",
        "colab_type": "code",
        "outputId": "0a130524-6f87-4c91-f0c9-b1091af0cfc8",
        "colab": {
          "base_uri": "https://localhost:8080/",
          "height": 549
        }
      },
      "source": [
        "import matplotlib.pyplot as plt\n",
        "\n",
        "\n",
        "def plot_graphs(history, string):\n",
        "  plt.plot(history.history[string])\n",
        "  plt.plot(history.history['val_'+string])\n",
        "  plt.xlabel(\"Epochs\")\n",
        "  plt.ylabel(string)\n",
        "  plt.legend([string, 'val_'+string])\n",
        "  plt.show()\n",
        "\n",
        "plot_graphs(history, 'acc')\n",
        "plot_graphs(history, 'loss')"
      ],
      "execution_count": 0,
      "outputs": [
        {
          "output_type": "display_data",
          "data": {
            "image/png": "[encoded data removed]",
            "text/plain": [
              "<Figure size 432x288 with 1 Axes>"
            ]
          },
          "metadata": {
            "tags": []
          }
        },
        {
          "output_type": "display_data",
          "data": {
            "image/png": "[encoded data removed]",
            "text/plain": [
              "<Figure size 432x288 with 1 Axes>"
            ]
          },
          "metadata": {
            "tags": []
          }
        }
      ]
    },
    {
      "cell_type": "code",
      "metadata": {
        "id": "7ZEZIUppGhdi",
        "colab_type": "code",
        "colab": {}
      },
      "source": [
        "model.save(\"test.h5\")"
      ],
      "execution_count": 0,
      "outputs": []
    }
  ]
}